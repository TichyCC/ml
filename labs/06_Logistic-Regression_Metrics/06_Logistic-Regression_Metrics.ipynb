{
 "cells": [
  {
   "cell_type": "markdown",
   "metadata": {},
   "source": [
    "# <center>Logistic Regression and Evaluation Metrics</center>\n",
    "<center>Shan-Hung Wu &amp; DataLab<br/>Fall 2021</center>"
   ]
  },
  {
   "cell_type": "code",
   "execution_count": 1,
   "metadata": {},
   "outputs": [],
   "source": [
    "# inline plotting instead of popping out\n",
    "%matplotlib inline\n",
    "\n",
    "# python 3.6.8\n",
    "import os\n",
    "\n",
    "from IPython.display import Image\n",
    "from IPython.display import display\n",
    "\n",
    "# numpy  1.19.5\n",
    "import numpy as np\n",
    "\n",
    "# pandas  0.25.3\n",
    "import pandas as pd\n",
    "\n",
    "# scikit-learn  0.22\n",
    "from scipy import interp\n",
    "from sklearn.linear_model import LinearRegression, LogisticRegression\n",
    "from sklearn.metrics import auc, confusion_matrix,  f1_score, precision_score, recall_score, roc_curve\n",
    "from sklearn.model_selection import train_test_split\n",
    "from sklearn.preprocessing import StandardScaler\n",
    "\n",
    "# cycler 0.10.0\n",
    "from cycler import cycler\n",
    "\n",
    "# matplotlib  3.1.2\n",
    "import matplotlib\n",
    "matplotlib.rcParams.update({'font.size': 22})\n",
    "plt = matplotlib.pyplot\n",
    "\n",
    "# load utility classes/functions that has been taught in previous labs\n",
    "# e.g., plot_decision_regions()\n",
    "from lib import *\n",
    "\n",
    "# Make output directory\n",
    "if not os.path.exists(\"output/\") : os.mkdir(\"output/\")"
   ]
  },
  {
   "cell_type": "markdown",
   "metadata": {},
   "source": [
    "<br>\n",
    "\n",
    "In this lab, we will guide you through the practice of Logistic Regression.\n",
    "\n",
    "<br>\n",
    "\n",
    "## Logistic Regression \n",
    "<br>\n",
    "\n",
    "Logistic Regression is a classification algorithm in combination with a decision rule that makes dichotomous the predicted probabilities of the outcome. Currently, it is one of the most widely used classification models in Machine Learning.\n",
    "\n",
    "As discussed in the lecture, Logistic Regression predicts the label $\\hat{y}$ of a given point $\\boldsymbol{x}$ by  \n",
    "\n",
    "$$\\hat{y}=\\arg\\max_{y}\\mathrm{P}(y\\,|\\,\\boldsymbol{x};\\boldsymbol{w})$$\n",
    "\n",
    "and the conditional probability is defined as\n",
    "\n",
    "$$\\mathrm{P}(y\\,|\\,\\boldsymbol{x};\\boldsymbol{w})=\\sigma(\\boldsymbol{w}^{\\top}\\boldsymbol{x})^{y'}[1-\\sigma(\\boldsymbol{w}^{\\top}\\boldsymbol{x})]^{(1-y')},$$\n",
    "\n",
    "where $y'=\\frac{y+1}{2}$. Let's first plot the logistic function $\\sigma$ over $z=\\boldsymbol{w}^{\\top}\\boldsymbol{x}$\n",
    "\n",
    "$$\\sigma\\left(z\\right)=\\frac{\\exp(z)}{\\exp(z)+1}=\\frac{1}{1+\\exp(-z)}$$\n",
    "<br>"
   ]
  },
  {
   "cell_type": "code",
   "execution_count": 2,
   "metadata": {},
   "outputs": [
    {
     "data": {
      "image/png": "[encoded data removed]",
      "text/plain": [
       "<Figure size 576x360 with 1 Axes>"
      ]
     },
     "metadata": {
      "needs_background": "light"
     },
     "output_type": "display_data"
    }
   ],
   "source": [
    "def logistic(z):\n",
    "    return 1.0 / (1.0 + np.exp(-z))\n",
    "\n",
    "z = np.arange(-7, 7, 0.1)\n",
    "sigma = logistic(z)\n",
    "\n",
    "fig, ax = plt.subplots(figsize=(8,5))\n",
    "plt.plot(z, sigma)\n",
    "plt.axvline(0.0, color='k')\n",
    "plt.ylim(-0.1, 1.1)\n",
    "plt.xlabel('z')\n",
    "plt.ylabel('$\\sigma(z)$')\n",
    "plt.title('Logistic function')\n",
    "plt.hlines(y=1.0, xmin=-7, xmax=7, color='red', linewidth = 1, linestyle = '--')\n",
    "plt.hlines(y=0.5, xmin=-7, xmax=7, color='red', linewidth = 1, linestyle = '--')\n",
    "plt.hlines(y=0, xmin=-7, xmax=7, color='red', linewidth = 1, linestyle = '--')\n",
    "plt.tight_layout()\n",
    "for item in (ax.get_yticklabels()):\n",
    "    item.set_fontsize(20)\n",
    "plt.savefig('./output/fig-logistic.png', dpi=300)\n",
    "plt.show()"
   ]
  },
  {
   "cell_type": "markdown",
   "metadata": {},
   "source": [
    "<br>\n",
    "We can see that $\\sigma(z)$ approaches $1$ when $(z \\rightarrow \\infty)$, since $e^{-z}$ becomes very small for large values of $z$. Similarly, $\\sigma(z)$ goes downward to $0$ for $ z \\rightarrow -\\infty$ as the result of an increasingly large denominator. The logistic function takes real number values as input and transforms them to values in the range $[0, 1]$ with an intercept at $\\sigma(z) = 0.5$.\n",
    "\n",
    "\n",
    "To learn the weights $\\boldsymbol{w}$ from the training set $\\mathbb{X}$ = $\\{(x^1, y^1), (x^2, y^2), ..., (x^n, y^n)\\}$, we can use ML estimation:\n",
    "\n",
    "$$\\arg\\max_{\\boldsymbol{w}}\\log\\mathrm{P}(\\mathbb{X}\\,|\\,\\boldsymbol{w}).$$\n",
    "\n",
    "This problem can be solved by gradient descent algorithm with the following update rule:\n",
    "\n",
    "$$\\boldsymbol{w}^{(t+1)}=\\boldsymbol{w}^{(t)}-\\eta\\nabla_{\\boldsymbol{w}}\\log\\mathrm{P}(\\mathbb{X}\\,|\\,\\boldsymbol{w}^{(t)}),$$\n",
    "\n",
    "where\n",
    "\n",
    "$$\\nabla_{\\boldsymbol{w}}\\log\\mathrm{P}(\\mathbb{X}\\,|\\,\\boldsymbol{w}^{(t)})=\\sum_{t=1}^{N}[y'^{(i)}-\\sigma(\\boldsymbol{w}^{(t)\\top}\\boldsymbol{x}^{(i)})]\\boldsymbol{x}^{(i)}.$$\n",
    "\n",
    "Once $\\boldsymbol{w}$ is solved, we can then make predictions by\n",
    "\n",
    "$$\\hat{y}=\\arg\\max_{y}\\mathrm{P}(y\\,|\\,\\boldsymbol{x};\\boldsymbol{w})=\\arg\\max_{y}\\{\\sigma(\\boldsymbol{w}^{\\top}\\boldsymbol{x}),1-\\sigma(\\boldsymbol{w}^{\\top}\\boldsymbol{x})\\}=\\mathrm{sign}(\\boldsymbol{w}^{\\top}\\boldsymbol{x}).$$\n",
    "\n",
    "Logistic Regression is very easy to implement but performs well on linearly separable classes (or classes close to linearly separable). Similar to the Perceptron and Adaline, the Logistic Regression model is also a linear model for binary classification. We can relate the Logistic Regression to our previous Adaline implementation. In Adaline, we used the identity function as the activation function. In Logistic Regression, this activation function simply becomes the logistic function (also called as sigmoid function) as illustrated below:\n",
    "\n",
    "<img src=\"fig-logistic-regression.png\" style=\"width: 500px;\"/>\n",
    "<br>"
   ]
  },
  {
   "cell_type": "markdown",
   "metadata": {},
   "source": [
    "### Predicting Class-Membership Probability\n",
    "<br>\n",
    "One benefit of using Logistic Regression is that it is able to output the **class-membership probability** (i.e., probability of a class to which a point $\\boldsymbol{x}$ belongs) via $\\sigma(\\boldsymbol{w}^{\\top}\\boldsymbol{x})$ and $1-\\sigma(\\boldsymbol{w}^{\\top}\\boldsymbol{x})$. \n",
    "\n",
    "In fact, there are many applications where we are not only interested in predicting class labels, but also in estimating the class-membership probability. For example, in weather forecasting, we are interested not only if it will rain tomorrow but also the chance of raining. Similarly, when diagnosing disease we usually care about the chance that a patient has a particular disease given certain symptoms. This is why Logistic Regression enjoys wide popularity in the field of medicine."
   ]
  },
  {
   "cell_type": "markdown",
   "metadata": {},
   "source": [
    "### Training a Logistic Regression Model with Scikit-learn\n",
    "\n",
    "Scikit-learn implements a highly optimized version of logistic regression that also supports multiclass classification off-the-shelf. Let's use it to make predictions on the standardized Iris training dataset.\n",
    "\n",
    "NOTE: Logistic Regression, like many other binary classification models, can be easily extended to multiclass classification via [One-vs-All](http://scikit-learn.org/stable/modules/multiclass.html#one-vs-the-rest) or other similar techniques.\n",
    "<br>"
   ]
  },
  {
   "cell_type": "code",
   "execution_count": 3,
   "metadata": {},
   "outputs": [
    {
     "data": {
      "text/html": [
       "<div>\n",
       "<style scoped>\n",
       "    .dataframe tbody tr th:only-of-type {\n",
       "        vertical-align: middle;\n",
       "    }\n",
       "\n",
       "    .dataframe tbody tr th {\n",
       "        vertical-align: top;\n",
       "    }\n",
       "\n",
       "    .dataframe thead th {\n",
       "        text-align: right;\n",
       "    }\n",
       "</style>\n",
       "<table border=\"1\" class=\"dataframe\">\n",
       "  <thead>\n",
       "    <tr style=\"text-align: right;\">\n",
       "      <th></th>\n",
       "      <th>Sepal length</th>\n",
       "      <th>Sepal width</th>\n",
       "      <th>Petal length</th>\n",
       "      <th>Petal width</th>\n",
       "      <th>Class label</th>\n",
       "    </tr>\n",
       "  </thead>\n",
       "  <tbody>\n",
       "    <tr>\n",
       "      <th>0</th>\n",
       "      <td>5.1</td>\n",
       "      <td>3.5</td>\n",
       "      <td>1.4</td>\n",
       "      <td>0.2</td>\n",
       "      <td>Iris-setosa</td>\n",
       "    </tr>\n",
       "    <tr>\n",
       "      <th>1</th>\n",
       "      <td>4.9</td>\n",
       "      <td>3.0</td>\n",
       "      <td>1.4</td>\n",
       "      <td>0.2</td>\n",
       "      <td>Iris-setosa</td>\n",
       "    </tr>\n",
       "    <tr>\n",
       "      <th>2</th>\n",
       "      <td>4.7</td>\n",
       "      <td>3.2</td>\n",
       "      <td>1.3</td>\n",
       "      <td>0.2</td>\n",
       "      <td>Iris-setosa</td>\n",
       "    </tr>\n",
       "    <tr>\n",
       "      <th>3</th>\n",
       "      <td>4.6</td>\n",
       "      <td>3.1</td>\n",
       "      <td>1.5</td>\n",
       "      <td>0.2</td>\n",
       "      <td>Iris-setosa</td>\n",
       "    </tr>\n",
       "    <tr>\n",
       "      <th>4</th>\n",
       "      <td>5.0</td>\n",
       "      <td>3.6</td>\n",
       "      <td>1.4</td>\n",
       "      <td>0.2</td>\n",
       "      <td>Iris-setosa</td>\n",
       "    </tr>\n",
       "  </tbody>\n",
       "</table>\n",
       "</div>"
      ],
      "text/plain": [
       "   Sepal length  Sepal width  Petal length  Petal width  Class label\n",
       "0           5.1          3.5           1.4          0.2  Iris-setosa\n",
       "1           4.9          3.0           1.4          0.2  Iris-setosa\n",
       "2           4.7          3.2           1.3          0.2  Iris-setosa\n",
       "3           4.6          3.1           1.5          0.2  Iris-setosa\n",
       "4           5.0          3.6           1.4          0.2  Iris-setosa"
      ]
     },
     "metadata": {},
     "output_type": "display_data"
    },
    {
     "name": "stdout",
     "output_type": "stream",
     "text": [
      "#Training data points: 80\n",
      "#Testing data points: 20\n",
      "Class labels: [0 1] (mapped from ['Iris-versicolor' 'Iris-virginica'])\n"
     ]
    }
   ],
   "source": [
    "df = pd.read_csv('https://archive.ics.uci.edu/ml/'\n",
    "                 'machine-learning-databases/iris/iris.data', header=None)\n",
    "df.columns = ['Sepal length', 'Sepal width', 'Petal length', 'Petal width', 'Class label']\n",
    "display(df.head())\n",
    "\n",
    "# for simplicity, consider only two features and two classes\n",
    "\n",
    "X = df[['Petal length', 'Petal width']].values[50:150]\n",
    "y, y_label = pd.factorize(df['Class label'].values[50:150])\n",
    "\n",
    "X_train, X_test, y_train, y_test = train_test_split(\n",
    "  X, y, test_size=0.2, random_state=1)\n",
    "\n",
    "print('#Training data points: %d' % X_train.shape[0])\n",
    "print('#Testing data points: %d' % X_test.shape[0])\n",
    "print('Class labels: %s (mapped from %s)' % (np.unique(y), np.unique(y_label)))\n",
    "\n",
    "# Standardize X\n",
    "\n",
    "sc = StandardScaler()\n",
    "sc.fit(X_train)\n",
    "X_train_std = sc.transform(X_train)\n",
    "X_test_std = sc.transform(X_test)"
   ]
  },
  {
   "cell_type": "code",
   "execution_count": 4,
   "metadata": {},
   "outputs": [
    {
     "data": {
      "image/png": "[encoded data removed]",
      "text/plain": [
       "<Figure size 576x432 with 1 Axes>"
      ]
     },
     "metadata": {
      "needs_background": "light"
     },
     "output_type": "display_data"
    }
   ],
   "source": [
    "lr = LogisticRegression(C = 1000.0, random_state = 0, solver = \"liblinear\")\n",
    "lr.fit(X_train_std, y_train)\n",
    "\n",
    "# plot decision regions\n",
    "fig, ax = plt.subplots(figsize=(8,6))\n",
    "X_combined_std = np.vstack((X_train_std, X_test_std))\n",
    "y_combined = np.hstack((y_train, y_test))\n",
    "\n",
    "plot_decision_regions(X_combined_std, y_combined,\n",
    "                      classifier=lr, test_idx=range(y_train.size, \n",
    "                                                    y_train.size + y_test.size))\n",
    "plt.xlabel('Petal length [Standardized]')\n",
    "plt.ylabel('Petal width [Standardized]')\n",
    "plt.legend(loc='lower right')\n",
    "plt.tight_layout()\n",
    "plt.legend(loc=4, prop={'size': 20})\n",
    "for item in ([ax.title, ax.xaxis.label, ax.yaxis.label] +\n",
    "             ax.get_xticklabels() + ax.get_yticklabels()):\n",
    "    item.set_fontsize(20)\n",
    "for item in (ax.get_xticklabels() + ax.get_yticklabels()):\n",
    "    item.set_fontsize(15)\n",
    "plt.savefig('./output/fig-logistic-regression-boundray-2.png', dpi=300)\n",
    "plt.show()"
   ]
  },
  {
   "cell_type": "markdown",
   "metadata": {},
   "source": [
    "<br>\n",
    "The `Logistic Regression` class can predict the class-membership probability via the `predict_proba()` method. For example, we can predict the probabilities of the first testing point:"
   ]
  },
  {
   "cell_type": "code",
   "execution_count": 5,
   "metadata": {},
   "outputs": [
    {
     "name": "stdout",
     "output_type": "stream",
     "text": [
      "Correct label: Iris-virginica\n",
      "\n",
      "Prob for class Iris-versicolor: 0.01\n",
      "Prob for class Iris-virginica: 0.99\n"
     ]
    }
   ],
   "source": [
    "test_idx = 1\n",
    "print('Correct label: %s\\n' % y_label[y_test[test_idx]])\n",
    "\n",
    "prob = lr.predict_proba(X_test_std[test_idx, :].reshape(1, -1))\n",
    "\n",
    "print('Prob for class %s: %.2f' % (y_label[0], prob[:, 0]))\n",
    "print('Prob for class %s: %.2f' % (y_label[1], prob[:, 1]))"
   ]
  },
  {
   "cell_type": "markdown",
   "metadata": {},
   "source": [
    "The `prob` array tells us that the model predicts a 99% chance that the sample belongs to the Iris-Virginica class, and a 1% chance that the sample is a Iris-Versicolor flower.\n",
    "<br>\n",
    "<br>"
   ]
  },
  {
   "cell_type": "markdown",
   "metadata": {},
   "source": [
    "### Regularization\n",
    "<br>\n",
    "One way to regularize a logistic regression classifier is to add a **weight decay** term in the objective (or cost function), as in Ridge regression:\n",
    "\n",
    "$$\\arg\\max_{\\boldsymbol{w}}\\log\\mathrm{P}(\\mathbb{X}\\,|\\,\\boldsymbol{w})-\\frac{\\alpha}{2}\\Vert\\boldsymbol{w}\\Vert^2,$$\n",
    "\n",
    "where $\\alpha > 0$ is a hyperparameter that controls the trade-off between maximizing the log likelihood and minimizing the weight. Note that the `Logistic Regression` class implemented in Scikit-learn uses the hyperparameter $C=1/\\alpha$ due to convention."
   ]
  },
  {
   "cell_type": "code",
   "execution_count": 6,
   "metadata": {},
   "outputs": [
    {
     "data": {
      "image/png": "[encoded data removed]",
      "text/plain": [
       "<Figure size 576x432 with 1 Axes>"
      ]
     },
     "metadata": {
      "needs_background": "light"
     },
     "output_type": "display_data"
    }
   ],
   "source": [
    "weights, params = [], []\n",
    "for c in np.arange(-5, 5, dtype='float32'):\n",
    "    lr = LogisticRegression(C = 10**c, random_state = 0, solver = \"liblinear\")\n",
    "    lr.fit(X_train_std, y_train)\n",
    "    # get the coefficients of w\n",
    "    weights.append(lr.coef_[0])\n",
    "    params.append(10**c)\n",
    "\n",
    "fig, ax = plt.subplots(figsize=(8,6))\n",
    "weights = np.array(weights)\n",
    "plt.plot(params, weights[:, 0],\n",
    "         label='Petal length')\n",
    "plt.plot(params, weights[:, 1],\n",
    "         label='Petal width', linestyle='--')\n",
    "plt.xlim(10**4, 10**-5)\n",
    "plt.xscale('log')\n",
    "plt.xlabel('C')\n",
    "plt.ylabel('Weight coefficient')\n",
    "plt.legend(loc='upper right')\n",
    "plt.tight_layout()\n",
    "plt.legend(loc=1, prop={'size': 20})\n",
    "for item in ([ax.title, ax.xaxis.label, ax.yaxis.label] +\n",
    "             ax.get_xticklabels() + ax.get_yticklabels()):\n",
    "    item.set_fontsize(20)\n",
    "for item in (ax.get_xticklabels() + ax.get_yticklabels()):\n",
    "    item.set_fontsize(15)\n",
    "plt.savefig('./output/fig-logistic-regression-c.png', dpi=300)\n",
    "plt.show()"
   ]
  },
  {
   "cell_type": "markdown",
   "metadata": {},
   "source": [
    "## Evaluation Metrics for Binary Classifiers\n",
    "\n",
    "So far, we evaluate the performance of a classifier using the **accuracy** metric. Although accuracy is a general and common metric, there are several other evaluation metrics that allow us to quantify the performance of a model from different aspects.\n",
    "\n",
    "### Confusion Matrix\n",
    "\n",
    "Before we get into the details of different evaluation metrics, let's print the so-called **confusion matrix**, a square matrix that reports the counts of the true positive, true negative, false positive, and false negative predictions of a classifier, as shown below:\n",
    "\n",
    "<img src=\"fig-confusion.png\" style=\"width: 400px;\"/>"
   ]
  },
  {
   "cell_type": "markdown",
   "metadata": {},
   "source": [
    "<br>\n",
    "The confusion matrix of our logistic regressor over the Iris dataset is shown as follows:"
   ]
  },
  {
   "cell_type": "code",
   "execution_count": 7,
   "metadata": {},
   "outputs": [
    {
     "data": {
      "image/png": "[encoded data removed]",
      "text/plain": [
       "<Figure size 288x288 with 1 Axes>"
      ]
     },
     "metadata": {
      "needs_background": "light"
     },
     "output_type": "display_data"
    }
   ],
   "source": [
    "lr = LogisticRegression(random_state = 0, solver = \"liblinear\")\n",
    "lr.fit(X_train_std, y_train)\n",
    "y_pred = lr.predict(X_test_std)\n",
    "confmat = confusion_matrix(y_true=y_test, y_pred=y_pred)\n",
    "\n",
    "fig, ax = plt.subplots(figsize=(4,4))\n",
    "ax.matshow(confmat, cmap=plt.cm.Blues, alpha=0.3)\n",
    "for i in range(confmat.shape[0]):\n",
    "    for j in range(confmat.shape[1]):\n",
    "        ax.text(x=j, y=i, s=confmat[i, j], va='center', ha='center')\n",
    "\n",
    "plt.xlabel('Predicted label')\n",
    "plt.ylabel('True label')\n",
    "\n",
    "plt.tight_layout()\n",
    "plt.savefig('./output/fig-logistic-regression-confusion-2.png', dpi=300)\n",
    "for item in ([ax.title, ax.xaxis.label, ax.yaxis.label] +\n",
    "             ax.get_xticklabels() + ax.get_yticklabels()):\n",
    "    item.set_fontsize(20)\n",
    "for item in (ax.get_xticklabels() + ax.get_yticklabels()):\n",
    "    item.set_fontsize(15)\n",
    "plt.show()"
   ]
  },
  {
   "cell_type": "markdown",
   "metadata": {},
   "source": [
    "The meaning of each entry in the above confusion matrix is straightforward. For example, the cell at $(1,0)$ means that $2$ positive testing points are misclassified as negative. Confusion matrix helps us know not only the count of **how many** errors but **how** they are wrong. Correct predictions counts into the diagonal entries. A good performing classifier should have a confusion matrix that is a diagonal matrix which means that the entries outside the main diagonal are all zero.\n",
    "<br>\n",
    "The **error rate (ERR)** and **accuracy (ACC)** we have been using can be defined as follows:\n",
    "\n",
    "$$ERR = \\frac{FP+FN}{TP + TN + FP + FN},\\enspace\\text{ (the lower, the better)}$$\n",
    "\n",
    "$$ACC = \\frac{TP+TN}{TP + TN + FP + FN} = 1-ERR.\\enspace\\text{ (the higher, the better)}$$\n"
   ]
  },
  {
   "cell_type": "markdown",
   "metadata": {},
   "source": [
    "### True and False Positive Rate\n",
    "\n",
    "The **true positive rate (TPR)** and **false positive rate (FPR)** are defined as:\n",
    "\n",
    "$$TPR = \\frac{TP}{TP + FN}.\\enspace\\text{ (the higher, the better)}$$\n",
    "\n",
    "$$FPR = \\frac{FP}{FP + TN},\\enspace\\text{ (the lower, the better)}$$\n",
    "\n",
    "TPR and FPR are metrics particularly useful for tasks with **imbalanced classes**. For example, if we have 10% positive and 90% negative examples in the training set, then a dummy classifier that always give negative predictions will be able to achieve 90% accuracy. The accuracy metric is misleading in this case. On the other hand, by checking the TPR which equals to 0%, we learn that the dummy classifier is not performing well.\n",
    "\n",
    "### Precision, Recall, and $F_1$-Score\n",
    "The **Precision (PRE)** and **recall (REC)** metrics are defines as:\n",
    "\n",
    "$$PRE = \\frac{TP}{TP + FP},\\enspace\\text{ (the higher, the better)}$$\n",
    "\n",
    "$$REC = \\frac{TP}{TP + FN} = TPR.\\enspace\\text{ (the higher, the better)}$$\n",
    "\n",
    "Basically, PRE means \"how many points predicted as positive are indeed positive;\" while REC refers to \"how many positive points in the ground truth are successfully identified as positive.\" PRE and REC are useful metrics if we care specifically about the performance of positive predictions.\n",
    "\n",
    "In practice, we may combine PRE and REC into a single score called the **$F_1$-score**:\n",
    "\n",
    "$$F_1 = 2\\frac{(PRE * REC)}{PRE+REC},\\enspace\\text{ (the higher, the better)}$$\n",
    "\n",
    "which reaches its best value at $1$ and worst at $0$."
   ]
  },
  {
   "cell_type": "markdown",
   "metadata": {},
   "source": [
    "## Evaluation Metrics for Soft Classifiers\n",
    "Many classifiers, such as Adaline and Logistic Regression, can make \"soft\" predictions (i.e., real values instead of the \"hard\" 1 or -1). We may \"harden\" the soft predictions by defining a **decision threshold $\\theta$**. For example, suppose a classifier makes soft predictions in range $[-1,1]$ that are sorted as follows:\n",
    "\n",
    "<img src=\"fig-roc-threshold.png\" style=\"width: 120px;\"/>\n",
    "\n",
    "We can define a threshold $\\theta=0.8$ such that points with scores larger/smaller than $0.8$ become positive/negative outputs. It is clear that the performance of the classifier will vary as we use different values for threshold.\n",
    "\n",
    "### Receiver Operating Characteristic (ROC) Curve\n",
    "The **receiver operator characteristic (ROC)** curve measures the performance of a classifier at **all** possible thresholds. We can draw an ROC curve by following the steps:\n",
    "\n",
    "1. Rank the soft predictions from highest to lowest;\n",
    "2. For each indexing threshold $\\theta$ that makes the first $\\theta$ points positive and the rest negative, $\\theta=1,\\cdots,\\vert\\mathbb{X}\\vert$, calculate the $TPR^{(\\theta)}$ and $FPR^{(\\theta)}$;\n",
    "3. Draw points $(TPR^{(\\theta)},FPR^{(\\theta)})$ in a 2-D plot and connect the points to get an ROC curve.\n",
    "\n",
    "Let's plot the ROC curve of our logistic regressor:"
   ]
  },
  {
   "cell_type": "code",
   "execution_count": 8,
   "metadata": {
    "scrolled": false
   },
   "outputs": [
    {
     "data": {
      "image/png": "[encoded data removed]",
      "text/plain": [
       "<Figure size 504x504 with 1 Axes>"
      ]
     },
     "metadata": {
      "needs_background": "light"
     },
     "output_type": "display_data"
    }
   ],
   "source": [
    "lr = LogisticRegression(random_state = 0, solver = \"liblinear\")\n",
    "lr.fit(X_train_std, y_train)\n",
    "\n",
    "fig = plt.figure(figsize=(7,7))\n",
    "\n",
    "# mean_tpr = 0.0\n",
    "# mean_fpr = np.linspace(0, 1, 100)\n",
    "# all_tpr = []\n",
    "\n",
    "probas = lr.predict_proba(X_test_std) \n",
    "\n",
    "## we use feature 1 as positive label\n",
    "fpr, tpr, thresholds = roc_curve(y_test,\n",
    "                                 probas[:, 0],\n",
    "                                 pos_label=0)\n",
    "\n",
    "plt.plot(fpr, tpr, lw=2,\n",
    "         label='Logistic regression')\n",
    "    \n",
    "plt.plot([0, 1],\n",
    "         [0, 1],\n",
    "         linestyle='--',\n",
    "         color='gray',\n",
    "         label='Random guessing')\n",
    "\n",
    "plt.plot([0, 0, 1],\n",
    "         [0, 1, 1],\n",
    "         linestyle='-.',\n",
    "         alpha=0.5,\n",
    "         color='red',\n",
    "         label='Perfect')\n",
    "\n",
    "plt.xlim([-0.05, 1.05])\n",
    "plt.ylim([-0.05, 1.05])\n",
    "plt.xlabel('FPR')\n",
    "plt.ylabel('TPR')\n",
    "plt.title('ROC Curve')\n",
    "plt.legend(loc=\"lower right\")\n",
    "plt.tight_layout()\n",
    "plt.legend(loc=4, prop={'size': 18})\n",
    "for item in ([ax.title, ax.xaxis.label, ax.yaxis.label] +\n",
    "             ax.get_xticklabels() + ax.get_yticklabels()):\n",
    "    item.set_fontsize(20)\n",
    "for item in (ax.get_xticklabels() + ax.get_yticklabels()):\n",
    "    item.set_fontsize(15)\n",
    "plt.savefig('./output/fig-roc-lg.png', dpi=300)\n",
    "plt.show()\n"
   ]
  },
  {
   "cell_type": "markdown",
   "metadata": {},
   "source": [
    "### How does the ROC curve of a \"good\" classifier look like? \n",
    "The ROC curve of a perfect classifier would have a line that goes from bottom left to top left and top left to top right. On the other hand, if the ROC curve is just the diagonal line then the model is just doing random guessing. Any useful classifier should have an ROC curve falling between these two curves.\n",
    "\n",
    "### Model Comparison\n",
    "ROC curves are useful for comparing the performance of different classifiers over the same dataset. For example, suppose we have three classifiers $A$, $B$, and $C$ and their respective ROC curves, as shown below:\n",
    "\n",
    "<img src=\"fig-roc-compare.png\" style=\"width: 250px;\"/>\n",
    "\n",
    "It is clear that the classifiers $B$ and $C$ are better than $A$. But how about $B$ and $C$? This can also be answered by ROC curves:\n",
    "\n",
    "- If we tolerate no more than 10% FPR, we should pick $B$ at an indexing threshold $\\theta=0.15\\vert\\mathbb{X}\\vert$ to get 60% TPR;\n",
    "- If we tolerate 40% FPR, then pick $C$ at $\\theta=0.4\\vert\\mathbb{X}\\vert$, which gives 90% TPR.\n",
    "<br>\n",
    "<br>\n",
    "\n",
    "### Area Under the Curve (AUC)\n",
    "\n",
    "We can reduce an ROC curve to a single value by calculating the **area under the curve (AUC)**. A perfect classifier has $AUC=1.0$, and random guessing results in $AUC=0.5$. It can be shown that AUC is equal to the probability that a classifier will rank a randomly chosen positive instance higher than a randomly chosen negative one.\n",
    "\n",
    "Let's compute the AUC of our logistic regressor:"
   ]
  },
  {
   "cell_type": "code",
   "execution_count": 9,
   "metadata": {},
   "outputs": [
    {
     "name": "stdout",
     "output_type": "stream",
     "text": [
      "AUC: 0.98\n"
     ]
    }
   ],
   "source": [
    "print('AUC: %.2f' % auc(fpr, tpr))"
   ]
  },
  {
   "cell_type": "markdown",
   "metadata": {},
   "source": [
    "That's a pretty high score!\n",
    "<br>\n",
    "<br>\n",
    "\n",
    "## Evaluation Metrics for Multiclass Classification\n",
    "<br>\n",
    "\n",
    "In multiclass classification problem, we can extend the above metrics via **one-vs-all** technique, where we treat one class as \"positive\" and the rest as \"negative\" and compute a score for the class. If there are $K$ classes, then we compute $K$ scores, one for each class.  However, if we just want to have a single final score, we need to decide how to combine these scores.\n",
    "\n",
    "Scikit-learn implements the **macro** and **micro averaging** methods. For example, the micro-average of $K$ precision scores is calculated as follows:\n",
    "\n",
    "$$PRE_{micro} = \\frac{TP^{(1)} + \\cdots + TP^{(K)}}{P'^{(1)} + \\cdots + P'^{(K)}};$$\n",
    "\n",
    "while the macro-average is simply the average of individual PRE's:\n",
    "\n",
    "$$PRE_{macro} = \\frac{PRE^{(1)} + \\cdots + PRE^{(K)}}{K}$$\n",
    "\n",
    "Micro-averaging is useful if we want to weight each data point or prediction equally, whereas macro-averaging weights all classes equally. Macro-average is the default in Scikit-learn.\n",
    "\n",
    "Let's train a multiclass logistic regressor and see how it performs:"
   ]
  },
  {
   "cell_type": "code",
   "execution_count": 10,
   "metadata": {},
   "outputs": [
    {
     "name": "stdout",
     "output_type": "stream",
     "text": [
      "#Training data points: 16 + 33 + 31 = 80\n",
      "#Testing data points: 4 + 17 + 19 = 40\n",
      "Class labels: [0 1 2] (mapped from ['Iris-setosa' 'Iris-versicolor' 'Iris-virginica'])\n"
     ]
    },
    {
     "data": {
      "image/png": "[encoded data removed]",
      "text/plain": [
       "<Figure size 576x432 with 1 Axes>"
      ]
     },
     "metadata": {
      "needs_background": "light"
     },
     "output_type": "display_data"
    },
    {
     "data": {
      "image/png": "[encoded data removed]",
      "text/plain": [
       "<Figure size 360x360 with 1 Axes>"
      ]
     },
     "metadata": {
      "needs_background": "light"
     },
     "output_type": "display_data"
    },
    {
     "name": "stdout",
     "output_type": "stream",
     "text": [
      "[Precision]\n",
      "Individual: 1.00, 0.94, 0.95\n",
      "Micro: 0.95\n",
      "Macro: 0.96\n",
      "\n",
      "[Recall]\n",
      "Individual: 1.00, 0.94, 0.95\n",
      "Micro: 0.95\n",
      "Macro: 0.96\n",
      "\n",
      "[F1-score]\n",
      "Individual: 1.00, 0.94, 0.95\n",
      "Micro: 0.95\n",
      "Macro: 0.96\n"
     ]
    }
   ],
   "source": [
    "# prepare datasets\n",
    "\n",
    "X = df[['Petal length', 'Petal width']].values[30:150,]\n",
    "y, y_label = pd.factorize(df['Class label'].values[30:150])\n",
    "\n",
    "X_train, X_test, y_train, y_test = train_test_split(\n",
    "    X, y, test_size=0.33, random_state=1)\n",
    "\n",
    "print('#Training data points: %d + %d + %d = %d' % ((y_train == 0).sum(), \n",
    "                                                    (y_train == 1).sum(), \n",
    "                                                    (y_train == 2).sum(), \n",
    "                                                     y_train.size))\n",
    "print('#Testing data points: %d + %d + %d = %d' % ((y_test == 0).sum(), \n",
    "                                                    (y_test == 1).sum(), \n",
    "                                                    (y_test == 2).sum(), \n",
    "                                                     y_test.size))\n",
    "print('Class labels: %s (mapped from %s)' % (np.unique(y), np.unique(y_label)))\n",
    "\n",
    "# standarize X\n",
    "\n",
    "sc = StandardScaler()\n",
    "sc.fit(X_train)\n",
    "X_train_std = sc.transform(X_train)\n",
    "X_test_std = sc.transform(X_test)\n",
    "\n",
    "# training & testing\n",
    "\n",
    "lr = LogisticRegression(C = 1000.0, random_state = 0, solver = \"liblinear\", multi_class = \"ovr\")\n",
    "lr.fit(X_train_std, y_train)\n",
    "y_pred = lr.predict(X_test_std)\n",
    "\n",
    "# plot decision regions\n",
    "fig, ax = plt.subplots(figsize=(8,6))\n",
    "\n",
    "X_combined_std = np.vstack((X_train_std, X_test_std))\n",
    "y_combined = np.hstack((y_train, y_test))\n",
    "\n",
    "plot_decision_regions(X_combined_std, y_combined,\n",
    "                      classifier=lr, test_idx=range(y_train.size, \n",
    "                                     y_train.size + y_test.size))\n",
    "plt.xlabel('Petal length [Standardized]')\n",
    "plt.ylabel('Petal width [Standardized]')\n",
    "plt.legend(loc=4, prop={'size': 15})\n",
    "plt.tight_layout()\n",
    "for item in ([ax.title, ax.xaxis.label, ax.yaxis.label] +\n",
    "             ax.get_xticklabels() + ax.get_yticklabels()):\n",
    "    item.set_fontsize(20)\n",
    "for item in (ax.get_xticklabels() + ax.get_yticklabels()):\n",
    "    item.set_fontsize(15)\n",
    "plt.savefig('./output/fig-logistic-regression-boundray-3.png', dpi=300)\n",
    "plt.show()\n",
    "\n",
    "# plot confusion matrix\n",
    "\n",
    "confmat = confusion_matrix(y_true=y_test, y_pred=y_pred)\n",
    "fig, ax = plt.subplots(figsize=(5,5))\n",
    "ax.matshow(confmat, cmap=plt.cm.Blues, alpha=0.3)\n",
    "for i in range(confmat.shape[0]):\n",
    "    for j in range(confmat.shape[1]):\n",
    "        ax.text(x=j, y=i, s=confmat[i, j], va='center', ha='center')\n",
    "plt.xlabel('Predicted label')\n",
    "plt.ylabel('True label')\n",
    "plt.tight_layout()\n",
    "for item in ([ax.title, ax.xaxis.label, ax.yaxis.label] +\n",
    "             ax.get_xticklabels() + ax.get_yticklabels()):\n",
    "    item.set_fontsize(20)\n",
    "for item in (ax.get_xticklabels() + ax.get_yticklabels()):\n",
    "    item.set_fontsize(15)\n",
    "plt.savefig('./output/fig-logistic-regression-confusion-3.png', dpi=300)\n",
    "plt.show()\n",
    "\n",
    "# metrics\n",
    "\n",
    "print('[Precision]')\n",
    "p = precision_score(y_true=y_test, y_pred=y_pred, average=None)\n",
    "print('Individual: %.2f, %.2f, %.2f' % (p[0], p[1], p[2]))\n",
    "p = precision_score(y_true=y_test, y_pred=y_pred, average='micro')\n",
    "print('Micro: %.2f' % p)\n",
    "p = precision_score(y_true=y_test, y_pred=y_pred, average='macro')\n",
    "print('Macro: %.2f' % p)\n",
    "\n",
    "print('\\n[Recall]')\n",
    "r = recall_score(y_true=y_test, y_pred=y_pred,average=None)\n",
    "print('Individual: %.2f, %.2f, %.2f' % (r[0], r[1], r[2]))\n",
    "r = recall_score(y_true=y_test, y_pred=y_pred, average='micro')\n",
    "print('Micro: %.2f' % r)\n",
    "r = recall_score(y_true=y_test, y_pred=y_pred, average='macro')\n",
    "print('Macro: %.2f' % r)\n",
    "\n",
    "print('\\n[F1-score]')\n",
    "f = f1_score(y_true=y_test, y_pred=y_pred, average=None)\n",
    "print('Individual: %.2f, %.2f, %.2f' % (f[0], f[1], f[2]))\n",
    "f = f1_score(y_true=y_test, y_pred=y_pred, average='micro')\n",
    "print('Micro: %.2f' % f)\n",
    "f = f1_score(y_true=y_test, y_pred=y_pred, average='macro')\n",
    "print('Macro: %.2f' % f)"
   ]
  },
  {
   "cell_type": "markdown",
   "metadata": {},
   "source": [
    "We can see that the micro average reports more conservative scores. This is because it takes into account the class size. In our testing set, the first class is smaller than the others so its score (1.00) contributes less to the final score. \n",
    "<br>"
   ]
  },
  {
   "cell_type": "markdown",
   "metadata": {},
   "source": [
    "# <center>Assignment</center>"
   ]
  },
  {
   "cell_type": "markdown",
   "metadata": {},
   "source": [
    "## Goal\n",
    "Predict the presence or absence of cardiac arrhythmia in a patient"
   ]
  },
  {
   "cell_type": "markdown",
   "metadata": {},
   "source": [
    "## Read this note carefully\n",
    "- Submit to iLMS with your code file, the filename format should be ```Lab06_{student_id}.ipynb```. The notebook should contain\n",
    "    1. Loading of dataset\n",
    "    2. Splitting of dataset to training and testing data (test_size = 20% of the whole dataset)\n",
    "    3. Building of a self-designed Logistic Regression model (Complete the TODO parts provided below)\n",
    "    4. Plotting of the confusion matrix. (**Label 0 as positive**)\n",
    "    5. Computing the F1-score of this confusion matrix. The F1-score should be at least 0.75\n",
    "- Deadline: **2021-10-21(Thr) 23:59**\n",
    "- Please make sure that we can rerun your code\n",
    "\n",
    "## Dataset\n",
    "The [Arrhythmia](https://archive.ics.uci.edu/ml/datasets/Arrhythmia) dataset from UCI repository contains 280 variables collected from 452 patients. Its information helps in distinguishing between the presence and absence of cardiac arrhythmia and in classifying arrhytmia in one of the 16 groups. In this homework, we will just focus on building a Logistic Regression model that  can classify between the presence and absence of arrhythmia.<br><br>\n",
    "\n",
    "Original class 1 refers to 'normal' ECG which we will regard as 'absence of arrhythmia' and the rest of the classes will be 'presence of arrhythmia'."
   ]
  },
  {
   "cell_type": "code",
   "execution_count": 11,
   "metadata": {
    "scrolled": false
   },
   "outputs": [
    {
     "data": {
      "text/html": [
       "<div>\n",
       "<style scoped>\n",
       "    .dataframe tbody tr th:only-of-type {\n",
       "        vertical-align: middle;\n",
       "    }\n",
       "\n",
       "    .dataframe tbody tr th {\n",
       "        vertical-align: top;\n",
       "    }\n",
       "\n",
       "    .dataframe thead th {\n",
       "        text-align: right;\n",
       "    }\n",
       "</style>\n",
       "<table border=\"1\" class=\"dataframe\">\n",
       "  <thead>\n",
       "    <tr style=\"text-align: right;\">\n",
       "      <th></th>\n",
       "      <th>0</th>\n",
       "      <th>1</th>\n",
       "      <th>2</th>\n",
       "      <th>3</th>\n",
       "      <th>4</th>\n",
       "      <th>5</th>\n",
       "      <th>6</th>\n",
       "      <th>7</th>\n",
       "      <th>8</th>\n",
       "      <th>9</th>\n",
       "      <th>...</th>\n",
       "      <th>270</th>\n",
       "      <th>271</th>\n",
       "      <th>272</th>\n",
       "      <th>273</th>\n",
       "      <th>274</th>\n",
       "      <th>275</th>\n",
       "      <th>276</th>\n",
       "      <th>277</th>\n",
       "      <th>278</th>\n",
       "      <th>279</th>\n",
       "    </tr>\n",
       "  </thead>\n",
       "  <tbody>\n",
       "    <tr>\n",
       "      <th>0</th>\n",
       "      <td>75</td>\n",
       "      <td>0</td>\n",
       "      <td>190</td>\n",
       "      <td>80</td>\n",
       "      <td>91</td>\n",
       "      <td>193</td>\n",
       "      <td>371</td>\n",
       "      <td>174</td>\n",
       "      <td>121</td>\n",
       "      <td>-16</td>\n",
       "      <td>...</td>\n",
       "      <td>0.0</td>\n",
       "      <td>9.0</td>\n",
       "      <td>-0.9</td>\n",
       "      <td>0.0</td>\n",
       "      <td>0.0</td>\n",
       "      <td>0.9</td>\n",
       "      <td>2.9</td>\n",
       "      <td>23.3</td>\n",
       "      <td>49.4</td>\n",
       "      <td>8</td>\n",
       "    </tr>\n",
       "    <tr>\n",
       "      <th>1</th>\n",
       "      <td>56</td>\n",
       "      <td>1</td>\n",
       "      <td>165</td>\n",
       "      <td>64</td>\n",
       "      <td>81</td>\n",
       "      <td>174</td>\n",
       "      <td>401</td>\n",
       "      <td>149</td>\n",
       "      <td>39</td>\n",
       "      <td>25</td>\n",
       "      <td>...</td>\n",
       "      <td>0.0</td>\n",
       "      <td>8.5</td>\n",
       "      <td>0.0</td>\n",
       "      <td>0.0</td>\n",
       "      <td>0.0</td>\n",
       "      <td>0.2</td>\n",
       "      <td>2.1</td>\n",
       "      <td>20.4</td>\n",
       "      <td>38.8</td>\n",
       "      <td>6</td>\n",
       "    </tr>\n",
       "    <tr>\n",
       "      <th>2</th>\n",
       "      <td>54</td>\n",
       "      <td>0</td>\n",
       "      <td>172</td>\n",
       "      <td>95</td>\n",
       "      <td>138</td>\n",
       "      <td>163</td>\n",
       "      <td>386</td>\n",
       "      <td>185</td>\n",
       "      <td>102</td>\n",
       "      <td>96</td>\n",
       "      <td>...</td>\n",
       "      <td>0.0</td>\n",
       "      <td>9.5</td>\n",
       "      <td>-2.4</td>\n",
       "      <td>0.0</td>\n",
       "      <td>0.0</td>\n",
       "      <td>0.3</td>\n",
       "      <td>3.4</td>\n",
       "      <td>12.3</td>\n",
       "      <td>49.0</td>\n",
       "      <td>10</td>\n",
       "    </tr>\n",
       "  </tbody>\n",
       "</table>\n",
       "<p>3 rows × 280 columns</p>\n",
       "</div>"
      ],
      "text/plain": [
       "   0    1    2    3    4    5    6    7    8    9    ...  270  271  272  273  \\\n",
       "0   75    0  190   80   91  193  371  174  121  -16  ...  0.0  9.0 -0.9  0.0   \n",
       "1   56    1  165   64   81  174  401  149   39   25  ...  0.0  8.5  0.0  0.0   \n",
       "2   54    0  172   95  138  163  386  185  102   96  ...  0.0  9.5 -2.4  0.0   \n",
       "\n",
       "   274  275  276   277   278  279  \n",
       "0  0.0  0.9  2.9  23.3  49.4    8  \n",
       "1  0.0  0.2  2.1  20.4  38.8    6  \n",
       "2  0.0  0.3  3.4  12.3  49.0   10  \n",
       "\n",
       "[3 rows x 280 columns]"
      ]
     },
     "metadata": {},
     "output_type": "display_data"
    }
   ],
   "source": [
    "#load the data\n",
    "data = pd.read_csv('http://archive.ics.uci.edu/ml/machine-learning-databases/'\n",
    "                   'arrhythmia/arrhythmia.data', header=None, sep=',', engine='python')\n",
    "\n",
    "display(data.head(3))"
   ]
  },
  {
   "cell_type": "markdown",
   "metadata": {},
   "source": [
    "How big is the dataset?"
   ]
  },
  {
   "cell_type": "code",
   "execution_count": 12,
   "metadata": {},
   "outputs": [
    {
     "name": "stdout",
     "output_type": "stream",
     "text": [
      "452 rows and 280 columns\n"
     ]
    }
   ],
   "source": [
    "print('%d rows and %d columns' % (data.shape[0],data.shape[1]))"
   ]
  },
  {
   "cell_type": "markdown",
   "metadata": {},
   "source": [
    "The last column of the dataset is the class label. It contains the 16 ECG classifications:"
   ]
  },
  {
   "cell_type": "code",
   "execution_count": 13,
   "metadata": {},
   "outputs": [
    {
     "data": {
      "text/plain": [
       "array([ 1,  2,  3,  4,  5,  6,  7,  8,  9, 10, 14, 15, 16])"
      ]
     },
     "execution_count": 13,
     "metadata": {},
     "output_type": "execute_result"
    }
   ],
   "source": [
    "np.unique(data[len(data.columns)-1])"
   ]
  },
  {
   "cell_type": "markdown",
   "metadata": {},
   "source": [
    "Let's make that column (class label) dichotomous.<br>\n",
    "Value is 0 if ECG is normal, 1 otherwise"
   ]
  },
  {
   "cell_type": "code",
   "execution_count": 14,
   "metadata": {},
   "outputs": [],
   "source": [
    "data['arrhythmia'] = data[len(data.columns)-1].map(lambda x: 0 if x==1 else 1)\n",
    "data = data.drop(len(data.columns)-2, axis=1)"
   ]
  },
  {
   "cell_type": "markdown",
   "metadata": {},
   "source": [
    "Are the groups balanced? "
   ]
  },
  {
   "cell_type": "code",
   "execution_count": 15,
   "metadata": {},
   "outputs": [
    {
     "data": {
      "text/plain": [
       "arrhythmia\n",
       "0    245\n",
       "1    207\n",
       "dtype: int64"
      ]
     },
     "execution_count": 15,
     "metadata": {},
     "output_type": "execute_result"
    }
   ],
   "source": [
    "data.groupby(['arrhythmia']).size()"
   ]
  },
  {
   "cell_type": "markdown",
   "metadata": {},
   "source": [
    "Some columns have missing values denoted as '?'<br>\n",
    "To make the preprocessing simpler, let's just retain the columns with numeric values."
   ]
  },
  {
   "cell_type": "code",
   "execution_count": 16,
   "metadata": {},
   "outputs": [
    {
     "name": "stdout",
     "output_type": "stream",
     "text": [
      "452 rows and 275 columns\n"
     ]
    }
   ],
   "source": [
    "data = data._get_numeric_data()\n",
    "print('%d rows and %d columns' % (data.shape[0],data.shape[1]))"
   ]
  },
  {
   "cell_type": "code",
   "execution_count": 17,
   "metadata": {},
   "outputs": [
    {
     "data": {
      "text/html": [
       "<div>\n",
       "<style scoped>\n",
       "    .dataframe tbody tr th:only-of-type {\n",
       "        vertical-align: middle;\n",
       "    }\n",
       "\n",
       "    .dataframe tbody tr th {\n",
       "        vertical-align: top;\n",
       "    }\n",
       "\n",
       "    .dataframe thead th {\n",
       "        text-align: right;\n",
       "    }\n",
       "</style>\n",
       "<table border=\"1\" class=\"dataframe\">\n",
       "  <thead>\n",
       "    <tr style=\"text-align: right;\">\n",
       "      <th></th>\n",
       "      <th>0</th>\n",
       "      <th>1</th>\n",
       "      <th>2</th>\n",
       "      <th>3</th>\n",
       "      <th>4</th>\n",
       "      <th>5</th>\n",
       "      <th>6</th>\n",
       "      <th>7</th>\n",
       "      <th>8</th>\n",
       "      <th>9</th>\n",
       "      <th>...</th>\n",
       "      <th>270</th>\n",
       "      <th>271</th>\n",
       "      <th>272</th>\n",
       "      <th>273</th>\n",
       "      <th>274</th>\n",
       "      <th>275</th>\n",
       "      <th>276</th>\n",
       "      <th>277</th>\n",
       "      <th>278</th>\n",
       "      <th>arrhythmia</th>\n",
       "    </tr>\n",
       "  </thead>\n",
       "  <tbody>\n",
       "    <tr>\n",
       "      <th>0</th>\n",
       "      <td>75</td>\n",
       "      <td>0</td>\n",
       "      <td>190</td>\n",
       "      <td>80</td>\n",
       "      <td>91</td>\n",
       "      <td>193</td>\n",
       "      <td>371</td>\n",
       "      <td>174</td>\n",
       "      <td>121</td>\n",
       "      <td>-16</td>\n",
       "      <td>...</td>\n",
       "      <td>0.0</td>\n",
       "      <td>9.0</td>\n",
       "      <td>-0.9</td>\n",
       "      <td>0.0</td>\n",
       "      <td>0.0</td>\n",
       "      <td>0.9</td>\n",
       "      <td>2.9</td>\n",
       "      <td>23.3</td>\n",
       "      <td>49.4</td>\n",
       "      <td>1</td>\n",
       "    </tr>\n",
       "    <tr>\n",
       "      <th>1</th>\n",
       "      <td>56</td>\n",
       "      <td>1</td>\n",
       "      <td>165</td>\n",
       "      <td>64</td>\n",
       "      <td>81</td>\n",
       "      <td>174</td>\n",
       "      <td>401</td>\n",
       "      <td>149</td>\n",
       "      <td>39</td>\n",
       "      <td>25</td>\n",
       "      <td>...</td>\n",
       "      <td>0.0</td>\n",
       "      <td>8.5</td>\n",
       "      <td>0.0</td>\n",
       "      <td>0.0</td>\n",
       "      <td>0.0</td>\n",
       "      <td>0.2</td>\n",
       "      <td>2.1</td>\n",
       "      <td>20.4</td>\n",
       "      <td>38.8</td>\n",
       "      <td>1</td>\n",
       "    </tr>\n",
       "    <tr>\n",
       "      <th>2</th>\n",
       "      <td>54</td>\n",
       "      <td>0</td>\n",
       "      <td>172</td>\n",
       "      <td>95</td>\n",
       "      <td>138</td>\n",
       "      <td>163</td>\n",
       "      <td>386</td>\n",
       "      <td>185</td>\n",
       "      <td>102</td>\n",
       "      <td>96</td>\n",
       "      <td>...</td>\n",
       "      <td>0.0</td>\n",
       "      <td>9.5</td>\n",
       "      <td>-2.4</td>\n",
       "      <td>0.0</td>\n",
       "      <td>0.0</td>\n",
       "      <td>0.3</td>\n",
       "      <td>3.4</td>\n",
       "      <td>12.3</td>\n",
       "      <td>49.0</td>\n",
       "      <td>1</td>\n",
       "    </tr>\n",
       "  </tbody>\n",
       "</table>\n",
       "<p>3 rows × 275 columns</p>\n",
       "</div>"
      ],
      "text/plain": [
       "    0  1    2   3    4    5    6    7    8   9  ...  270  271  272  273  274  \\\n",
       "0  75  0  190  80   91  193  371  174  121 -16  ...  0.0  9.0 -0.9  0.0  0.0   \n",
       "1  56  1  165  64   81  174  401  149   39  25  ...  0.0  8.5  0.0  0.0  0.0   \n",
       "2  54  0  172  95  138  163  386  185  102  96  ...  0.0  9.5 -2.4  0.0  0.0   \n",
       "\n",
       "   275  276   277   278  arrhythmia  \n",
       "0  0.9  2.9  23.3  49.4           1  \n",
       "1  0.2  2.1  20.4  38.8           1  \n",
       "2  0.3  3.4  12.3  49.0           1  \n",
       "\n",
       "[3 rows x 275 columns]"
      ]
     },
     "execution_count": 17,
     "metadata": {},
     "output_type": "execute_result"
    }
   ],
   "source": [
    "data.head(3)"
   ]
  },
  {
   "cell_type": "code",
   "execution_count": 18,
   "metadata": {},
   "outputs": [
    {
     "name": "stdout",
     "output_type": "stream",
     "text": [
      "[0 1]\n",
      "(452, 274)\n"
     ]
    }
   ],
   "source": [
    "X = data.iloc[:, :-1]  # The first to second-last columns are the features\n",
    "y = data.iloc[:, -1]   # The last column is the ground-truth label\n",
    "print(np.unique(y))\n",
    "print(X.shape)"
   ]
  },
  {
   "cell_type": "code",
   "execution_count": 19,
   "metadata": {},
   "outputs": [],
   "source": [
    "# splitting the dataset to training and validation datasets\n",
    "X_train, X_test, y_train, y_test = train_test_split(X, y, test_size=0.2, random_state=20181004)"
   ]
  },
  {
   "cell_type": "code",
   "execution_count": 20,
   "metadata": {},
   "outputs": [],
   "source": [
    "# Standardizing the training and test datasets\n",
    "# Note that we are scaling based on the information from the training data\n",
    "# Then we apply the scaling that is done from training data to the test data\n",
    "sc = StandardScaler()\n",
    "sc.fit(X_train)\n",
    "X_train_std = sc.transform(X_train)\n",
    "X_test_std = sc.transform(X_test)"
   ]
  },
  {
   "cell_type": "markdown",
   "metadata": {},
   "source": [
    "### Please continue working from here."
   ]
  },
  {
   "cell_type": "code",
   "execution_count": 21,
   "metadata": {},
   "outputs": [],
   "source": [
    "class LogisticRegression(object):\n",
    "\n",
    "    def __init__(self, eta=0.05, n_epoch=100, random_state=1):\n",
    "        self.eta = eta\n",
    "        self.n_epoch = n_epoch\n",
    "        self.random_state = random_state\n",
    "    \n",
    "    def fit(self, X, y):\n",
    "        rgen = np.random.RandomState(self.random_state)\n",
    "        self.w_ = rgen.normal(loc=0.0, scale=0.01, size=1 + X.shape[1])\n",
    "        self.cost_ = []\n",
    "\n",
    "        for i in range(self.n_epoch):\n",
    "            net_input = self.net_input(X)\n",
    "            output = self.activation(net_input)\n",
    "            errors = (y - output)\n",
    "            self.w_[1:] += self.eta * X.T.dot(errors)\n",
    "            self.w_[0] += self.eta * errors.sum()\n",
    "            cost = self.loss(output, y)\n",
    "            self.cost_.append(cost)\n",
    "        return self\n",
    "    \n",
    "    def net_input(self, X):\n",
    "        \"\"\"Calculate net input\"\"\"\n",
    "        return np.dot(X, self.w_[1:]) + self.w_[0]\n",
    "\n",
    "    def loss(self, output, y):\n",
    "        \"\"\"Calculate loss\"\"\"\n",
    "        # TODO\n",
    "        pass\n",
    "    \n",
    "    def activation(self, z):\n",
    "        \"\"\"Compute logistic sigmoid activation\"\"\"\n",
    "        # TODO\n",
    "        pass\n",
    "\n",
    "    def predict(self, X):\n",
    "        \"\"\"Return class label after unit step\"\"\"\n",
    "        # TODO\n",
    "        pass"
   ]
  }
 ],
 "metadata": {
  "anaconda-cloud": {},
  "kernelspec": {
   "display_name": "Python 3",
   "language": "python",
   "name": "python3"
  },
  "language_info": {
   "codemirror_mode": {
    "name": "ipython",
    "version": 3
   },
   "file_extension": ".py",
   "mimetype": "text/x-python",
   "name": "python",
   "nbconvert_exporter": "python",
   "pygments_lexer": "ipython3",
   "version": "3.6.8"
  }
 },
 "nbformat": 4,
 "nbformat_minor": 1
}

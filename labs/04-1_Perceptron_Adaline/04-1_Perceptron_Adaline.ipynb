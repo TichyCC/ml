{
 "cells": [
  {
   "cell_type": "markdown",
   "metadata": {},
   "source": [
    "# <center>Perceptron, Adaline, and Optimization</center>\n",
    "<center>Shan-Hung Wu &amp; DataLab<br/>Fall 2021</center>\n"
   ]
  },
  {
   "cell_type": "code",
   "execution_count": 1,
   "metadata": {
    "nbpresent": {
     "id": "2e3b5635-992a-4809-a39e-f27a5d3734cb"
    }
   },
   "outputs": [],
   "source": [
    "# inline plotting instead of popping out\n",
    "%matplotlib inline\n",
    "\n",
    "import os, math\n",
    "from IPython.display import Image\n",
    "import numpy as np\n",
    "seed = np.random.seed\n",
    "\n",
    "import pandas as pd\n",
    "import matplotlib.pyplot as plt\n",
    "\n",
    "from sklearn.linear_model import Perceptron\n",
    "from sklearn.metrics import accuracy_score\n",
    "from sklearn.model_selection import train_test_split\n",
    "from sklearn.preprocessing import StandardScaler\n",
    "\n",
    "# load utility classes/functions that has been taught in previous labs\n",
    "# e.g., plot_decision_regions()\n",
    "from lab04lib import *"
   ]
  },
  {
   "cell_type": "markdown",
   "metadata": {
    "nbpresent": {
     "id": "05cbbaa4-4736-4a0f-b6c4-9ffd5d996acb"
    }
   },
   "source": [
    "In this lab, we will guide you through the implementation of Perceptron and Adaline, two of the first algorithmically described machine learning algorithms for the classification problem. We will also discuss how to train these models using the optimization techniques, including the gradient descent (GD) and stochastic gradient descent (SGD), and compare their convergence speed."
   ]
  },
  {
   "cell_type": "markdown",
   "metadata": {
    "nbpresent": {
     "id": "675b2fa9-55dc-4b21-91de-2527ae95499d"
    }
   },
   "source": [
    "## Data Preparation\n",
    "We use the [Iris](https://archive.ics.uci.edu/ml/datasets/iris) dataset from the UCI machine learning repository, which is one of the best known datasets in classification. It consists of 150 iris plants as examples, each with the sepal and petal sizes as attributes and the type as class label. Let's download the Iris dataset using [Pandas](http://pandas.pydata.org/) first:"
   ]
  },
  {
   "cell_type": "code",
   "execution_count": 2,
   "metadata": {
    "nbpresent": {
     "id": "a497ce1e-274b-4663-b583-87003390a164"
    }
   },
   "outputs": [
    {
     "data": {
      "text/html": [
       "<div>\n",
       "<style scoped>\n",
       "    .dataframe tbody tr th:only-of-type {\n",
       "        vertical-align: middle;\n",
       "    }\n",
       "\n",
       "    .dataframe tbody tr th {\n",
       "        vertical-align: top;\n",
       "    }\n",
       "\n",
       "    .dataframe thead th {\n",
       "        text-align: right;\n",
       "    }\n",
       "</style>\n",
       "<table border=\"1\" class=\"dataframe\">\n",
       "  <thead>\n",
       "    <tr style=\"text-align: right;\">\n",
       "      <th></th>\n",
       "      <th>Sepal length</th>\n",
       "      <th>Sepal width</th>\n",
       "      <th>Petal length</th>\n",
       "      <th>Petal width</th>\n",
       "      <th>Class label</th>\n",
       "    </tr>\n",
       "  </thead>\n",
       "  <tbody>\n",
       "    <tr>\n",
       "      <th>0</th>\n",
       "      <td>5.1</td>\n",
       "      <td>3.5</td>\n",
       "      <td>1.4</td>\n",
       "      <td>0.2</td>\n",
       "      <td>Iris-setosa</td>\n",
       "    </tr>\n",
       "    <tr>\n",
       "      <th>1</th>\n",
       "      <td>4.9</td>\n",
       "      <td>3.0</td>\n",
       "      <td>1.4</td>\n",
       "      <td>0.2</td>\n",
       "      <td>Iris-setosa</td>\n",
       "    </tr>\n",
       "    <tr>\n",
       "      <th>2</th>\n",
       "      <td>4.7</td>\n",
       "      <td>3.2</td>\n",
       "      <td>1.3</td>\n",
       "      <td>0.2</td>\n",
       "      <td>Iris-setosa</td>\n",
       "    </tr>\n",
       "    <tr>\n",
       "      <th>3</th>\n",
       "      <td>4.6</td>\n",
       "      <td>3.1</td>\n",
       "      <td>1.5</td>\n",
       "      <td>0.2</td>\n",
       "      <td>Iris-setosa</td>\n",
       "    </tr>\n",
       "    <tr>\n",
       "      <th>4</th>\n",
       "      <td>5.0</td>\n",
       "      <td>3.6</td>\n",
       "      <td>1.4</td>\n",
       "      <td>0.2</td>\n",
       "      <td>Iris-setosa</td>\n",
       "    </tr>\n",
       "  </tbody>\n",
       "</table>\n",
       "</div>"
      ],
      "text/plain": [
       "   Sepal length  Sepal width  Petal length  Petal width  Class label\n",
       "0           5.1          3.5           1.4          0.2  Iris-setosa\n",
       "1           4.9          3.0           1.4          0.2  Iris-setosa\n",
       "2           4.7          3.2           1.3          0.2  Iris-setosa\n",
       "3           4.6          3.1           1.5          0.2  Iris-setosa\n",
       "4           5.0          3.6           1.4          0.2  Iris-setosa"
      ]
     },
     "metadata": {},
     "output_type": "display_data"
    },
    {
     "name": "stdout",
     "output_type": "stream",
     "text": [
      "#Training data points: 100\n",
      "#Testing data points: 50\n",
      "Class labels: [0 1 2] (mapped from ['Iris-setosa' 'Iris-versicolor' 'Iris-virginica']\n"
     ]
    }
   ],
   "source": [
    "df = pd.read_csv(\n",
    "    'https://archive.ics.uci.edu/ml/'\n",
    "    'machine-learning-databases/iris/iris.data',\n",
    "    header = None\n",
    ")\n",
    "df.columns = ['Sepal length', 'Sepal width', 'Petal length', 'Petal width', 'Class label']\n",
    "display(df.head())\n",
    "\n",
    "X = df[['Petal length', 'Petal width']].values\n",
    "y = pd.factorize(df['Class label'])[0]\n",
    "\n",
    "X_train, X_test, y_train, y_test = train_test_split(X, y, test_size=0.33, random_state=0)\n",
    "\n",
    "print('#Training data points: {}'.format(X_train.shape[0]))\n",
    "print('#Testing data points: {}'.format(X_test.shape[0]))\n",
    "print('Class labels: {} (mapped from {}'.format(np.unique(y), np.unique(df['Class label'])))"
   ]
  },
  {
   "cell_type": "markdown",
   "metadata": {
    "nbpresent": {
     "id": "3078d14a-006d-4508-affc-2cb868c56671"
    }
   },
   "source": [
    "### Standardization for Gradient Descent\n",
    "Recall from the lecture that the gradient descent may perform poorly if the Hessian of the function  $f$  to be minimized has a large condition number. In this case, the surface of  $f$  can be curvy in some directions but flat in the others. Therefore, the gradient descent, which ignores the curvatures, may overshoot the optimal point along curvy directions but take too small step along flat ones.\n",
    "\n",
    "One common way to improve the conditioning of  $f$  is to standardize dataset  $X$ , as follows:"
   ]
  },
  {
   "cell_type": "code",
   "execution_count": 3,
   "metadata": {
    "nbpresent": {
     "id": "5ede9148-3a37-4b9a-81c2-d4dcc379c667"
    }
   },
   "outputs": [],
   "source": [
    "sc = StandardScaler()\n",
    "sc.fit(X_train)\n",
    "X_train_std = sc.transform(X_train)\n",
    "X_test_std = sc.transform(X_test)"
   ]
  },
  {
   "cell_type": "markdown",
   "metadata": {
    "nbpresent": {
     "id": "0a679bdc-6e0b-4903-9aa7-f92e62e950db"
    }
   },
   "source": [
    "Note: the standardization should calculate the mean  $\\mu$  and variance  $\\sigma^2$  using only the training set, as the testing set must be remain unknown during the entire training process.\n"
   ]
  },
  {
   "cell_type": "markdown",
   "metadata": {
    "nbpresent": {
     "id": "ee7250bf-1bf8-4760-936e-7158b26b9532"
    }
   },
   "source": [
    "## Training Perceptron via Scikit-learn\n",
    "Having standardized the training data, we can now train a Perceptron model:"
   ]
  },
  {
   "cell_type": "code",
   "execution_count": 4,
   "metadata": {
    "nbpresent": {
     "id": "022d3155-d8a4-4c24-83ec-56b4b87cf070"
    }
   },
   "outputs": [
    {
     "data": {
      "text/plain": [
       "Perceptron(alpha=0.0001, class_weight=None, early_stopping=False, eta0=0.1,\n",
       "           fit_intercept=True, max_iter=10, n_iter_no_change=5, n_jobs=None,\n",
       "           penalty=None, random_state=0, shuffle=True, tol=0.001,\n",
       "           validation_fraction=0.1, verbose=0, warm_start=False)"
      ]
     },
     "execution_count": 4,
     "metadata": {},
     "output_type": "execute_result"
    }
   ],
   "source": [
    "# max_iter : The maximum number of passes over the training data\n",
    "# eta0 : learning rate\n",
    "ppn = Perceptron(max_iter=10, eta0=0.1, random_state=0)\n",
    "ppn.fit(X_train_std, y_train)"
   ]
  },
  {
   "cell_type": "markdown",
   "metadata": {
    "nbpresent": {
     "id": "3e87a4c6-575a-4e96-8537-54cb1619ad50"
    }
   },
   "source": [
    "Having trained a model in Scikit-learn, we can make predictions over the testing set and report the accuracy. Note that the testing set should be standardized in the exact same way as the training set."
   ]
  },
  {
   "cell_type": "code",
   "execution_count": 5,
   "metadata": {
    "nbpresent": {
     "id": "ef5e28a6-c51c-4969-95ec-406745c134d0"
    }
   },
   "outputs": [
    {
     "name": "stdout",
     "output_type": "stream",
     "text": [
      "Misclassified samples: 5\n",
      "Accuracy: 0.90\n"
     ]
    }
   ],
   "source": [
    "y_pred = ppn.predict(X_test_std)\n",
    "print('Misclassified samples: %d' % (y_test != y_pred).sum())\n",
    "print('Accuracy: %.2f' % accuracy_score(y_test, y_pred))"
   ]
  },
  {
   "cell_type": "markdown",
   "metadata": {},
   "source": [
    "We get 90% accuracy. Now let's plot the decision boundaries to see how the model works:"
   ]
  },
  {
   "cell_type": "code",
   "execution_count": 6,
   "metadata": {
    "nbpresent": {
     "id": "34410c7d-6856-478f-8472-2987d0a7bbd2"
    },
    "scrolled": true
   },
   "outputs": [
    {
     "data": {
      "image/png": "[encoded data removed]",
      "text/plain": [
       "<Figure size 432x288 with 1 Axes>"
      ]
     },
     "metadata": {
      "needs_background": "light"
     },
     "output_type": "display_data"
    }
   ],
   "source": [
    "X_combined_std = np.vstack((X_train_std, X_test_std))\n",
    "y_combined = np.hstack((y_train, y_test))\n",
    "\n",
    "plot_decision_regions(X=X_combined_std, y=y_combined,\n",
    "                      classifier=ppn, test_idx=range(len(y_train),\n",
    "                                                      len(y_train) + len(y_test)))\n",
    "plt.xlabel('Petal length [Standardized]')\n",
    "plt.ylabel('Petal width [Standardized]')\n",
    "plt.legend(loc='upper left')\n",
    "\n",
    "plt.tight_layout()\n",
    "plt.savefig('./output/fig-perceptron-scikit.png', dpi=300)\n",
    "plt.show()"
   ]
  },
  {
   "cell_type": "markdown",
   "metadata": {
    "nbpresent": {
     "id": "22fe6293-bdf4-438c-9493-69720632b577"
    }
   },
   "source": [
    "### Multiclass Classification\n",
    "The Perceptron model is originally designed for the binary classification problems. However, we can see from the above that the model implemented in the Scikit-learn is able to predict the labels of multiple classes (3 in this case). This is achieved by wrapping the binary model with an **[One-vs-All](http://scikit-learn.org/stable/modules/multiclass.html#one-vs-the-rest)** (or **One-vs-Rest**) procedure. If there are  $K$  classes, then this procedure trains  $K$  binary classifiers for each class, where each classifier treats only one class as positive and the rests as negative. To predict the label of a testing data point, each classifier generates the soft output $f(\\boldsymbol{x}) = \\boldsymbol{w}^{\\top}\\boldsymbol{x}-b\\in{\\mathbb{R}}$ for every class, and then the class who gets the highest output value becomes the predicted label."
   ]
  },
  {
   "cell_type": "markdown",
   "metadata": {
    "nbpresent": {
     "id": "ef24b948-bf88-45b2-b99b-4369237a3b1e"
    }
   },
   "source": [
    "## Implementing Perceptron\n",
    "Now it's time to implement a classifier by our own. For simplicity, we only implement the binary Perceptron model. This can be easily done as follows:"
   ]
  },
  {
   "cell_type": "code",
   "execution_count": 7,
   "metadata": {
    "nbpresent": {
     "id": "fc3ebc63-f3db-428c-b8d3-4fd451dd4e13"
    }
   },
   "outputs": [],
   "source": [
    "class Perceptron2(object):\n",
    "    \"\"\"Perceptron classifier.\n",
    "    \n",
    "    Parameters\n",
    "    ------------\n",
    "    eta: float \n",
    "        Learning rate (between 0.0 and 1.0)\n",
    "    n_iter: int\n",
    "        Number of epochs, i.e., passes over the training dataset.\n",
    "        \n",
    "    Attributes\n",
    "    ------------\n",
    "    w_: 1d-array\n",
    "        Weights after fitting.\n",
    "    errors_: list\n",
    "        Number of misclassifications in every epoch.\n",
    "    random_state : int\n",
    "        The seed of the pseudo random number generator.\n",
    "    \"\"\"\n",
    "    \n",
    "    def __init__(self, eta=0.01, n_iter=10, random_state=1):\n",
    "        self.eta = eta\n",
    "        self.n_iter = n_iter\n",
    "        self.random_state = random_state\n",
    "    \n",
    "    def fit(self, X, y):\n",
    "        \"\"\"Fit training data.\n",
    "\n",
    "        Parameters\n",
    "        ----------\n",
    "        X : array-like; shape = [n_samples, n_features]\n",
    "            Training vectors, where n_samples is the number of samples and\n",
    "            n_features is the number of features.\n",
    "        y : array-like; shape = [n_samples]\n",
    "            Target values, or labels.\n",
    "\n",
    "        Returns\n",
    "        -------\n",
    "        self : object\n",
    "\n",
    "        \"\"\"\n",
    "        rgen = np.random.RandomState(self.random_state)\n",
    "        self.w_ = rgen.normal(loc=0.0, scale=0.01, size=1+X.shape[1])\n",
    "        self.errors_ = []\n",
    "        \n",
    "        for _ in range(self.n_iter):\n",
    "            errors = 0.0\n",
    "            for xi, yi in zip(X, y):\n",
    "                output = self.predict(xi)\n",
    "                error = (yi - output)\n",
    "                self.w_[1:] += self.eta * error * xi\n",
    "                self.w_[0] += self.eta * error\n",
    "                errors += int(error != 0.0)\n",
    "            self.errors_.append(errors)\n",
    "        return self\n",
    "    \n",
    "    def net_input(self, X):\n",
    "        \"\"\"Calculate net input\"\"\"\n",
    "        return np.dot(X, self.w_[1:]) + self.w_[0]\n",
    "    \n",
    "    def predict(self, X):\n",
    "        \"\"\"Return class label after unit step\"\"\"\n",
    "        return np.where(self.net_input(X) >= 0.0, 1, -1)"
   ]
  },
  {
   "cell_type": "markdown",
   "metadata": {},
   "source": [
    "NOTE: \n",
    "1. we could have implemented the shorthand version of  $X$  and  $w$  to include the bias term. However, we single out the addition of the bias term (`self.w_[0]`) for performance reason, as adding a vector of 1's to the training array each time we want to make a prediction would be inefficient.\n",
    "2. some production implementation shuffles data in the beginning of each epoch. We omit this step for simplicity."
   ]
  },
  {
   "cell_type": "markdown",
   "metadata": {
    "nbpresent": {
     "id": "8e14465a-a71a-49f6-8f1b-d438f550bcbe"
    }
   },
   "source": [
    "To train our binary Perceptron model using the Iris dataset, we recreate our training and testing sets so that they contain only binary labels:"
   ]
  },
  {
   "cell_type": "code",
   "execution_count": 8,
   "metadata": {
    "nbpresent": {
     "id": "d8743d42-cfe2-4d3e-bc79-df4c7bf44a51"
    }
   },
   "outputs": [
    {
     "name": "stdout",
     "output_type": "stream",
     "text": [
      "#Training data points: 90\n",
      "#Testing data points: 10\n",
      "Class labels: [-1  1]\n"
     ]
    }
   ],
   "source": [
    "# discard exmaples in the first class\n",
    "X = X[50:150]\n",
    "y = np.where(y[50:150] == 2, -1, y[50:150])\n",
    "\n",
    "X_train, X_test, y_train, y_test = train_test_split(\n",
    "    X, y, test_size=0.1, random_state=1)\n",
    "\n",
    "sc = StandardScaler()\n",
    "sc.fit(X_train)\n",
    "X_train_std = sc.transform(X_train)\n",
    "X_test_std = sc.transform(X_test)\n",
    "\n",
    "print('#Training data points: %d' % X_train.shape[0])\n",
    "print('#Testing data points: %d' % X_test.shape[0])\n",
    "print('Class labels: %s' % np.unique(y))"
   ]
  },
  {
   "cell_type": "markdown",
   "metadata": {
    "nbpresent": {
     "id": "c5fe85dd-0fb8-4e78-a560-6871ae527862"
    }
   },
   "source": [
    "Let's train our model:"
   ]
  },
  {
   "cell_type": "code",
   "execution_count": 9,
   "metadata": {
    "nbpresent": {
     "id": "67e96028-6b1e-4c32-a660-4798d67b6603"
    }
   },
   "outputs": [
    {
     "name": "stdout",
     "output_type": "stream",
     "text": [
      "Misclassified samples: 3\n",
      "Accuracy: 0.70\n"
     ]
    },
    {
     "data": {
      "image/png": "[encoded data removed]",
      "text/plain": [
       "<Figure size 432x288 with 1 Axes>"
      ]
     },
     "metadata": {
      "needs_background": "light"
     },
     "output_type": "display_data"
    }
   ],
   "source": [
    "# training\n",
    "\n",
    "ppn2 = Perceptron2(eta=0.1, n_iter=20)\n",
    "\n",
    "ppn2.fit(X_train_std, y_train)\n",
    "\n",
    "# testing\n",
    "\n",
    "y_pred = ppn2.predict(X_test_std)\n",
    "print('Misclassified samples: %d' % (y_test != y_pred).sum())\n",
    "print('Accuracy: %.2f' % accuracy_score(y_test, y_pred))\n",
    "\n",
    "# plot descision boundary\n",
    "\n",
    "X_combined_std = np.vstack((X_train_std, X_test_std))\n",
    "y_combined = np.hstack((y_train, y_test))\n",
    "\n",
    "plot_decision_regions(X=X_combined_std, y=y_combined, \n",
    "                      classifier=ppn2, test_idx=range(len(y_train),\n",
    "                                                      len(y_train) + len(y_test)))\n",
    "plt.xlabel('Petal length [Standardized]')\n",
    "plt.ylabel('Petal width [Standardized]')\n",
    "plt.legend(loc='upper left')\n",
    "plt.tight_layout()\n",
    "plt.savefig('./output/fig-perceptron2-boundary.png', dpi=300)\n",
    "plt.show()"
   ]
  },
  {
   "cell_type": "markdown",
   "metadata": {
    "nbpresent": {
     "id": "14f29880-3bbb-4a89-98b1-05a758376fcd"
    }
   },
   "source": [
    "Our Perceptron model achieves 70% accuracy, which is not too good. This is mainly because the training algorithm does not converge when the data points are **not** linearly separable (by a hyperplane). We can track convergence using the `errors_` attributes:"
   ]
  },
  {
   "cell_type": "code",
   "execution_count": 10,
   "metadata": {
    "nbpresent": {
     "id": "75b98ab9-8aa6-416f-9e87-50cd851f5dce"
    }
   },
   "outputs": [
    {
     "data": {
      "image/png": "[encoded data removed]",
      "text/plain": [
       "<Figure size 432x288 with 1 Axes>"
      ]
     },
     "metadata": {
      "needs_background": "light"
     },
     "output_type": "display_data"
    }
   ],
   "source": [
    "plt.plot(range(1, len(ppn2.errors_) + 1), ppn2.errors_, marker='o')\n",
    "plt.xlabel('Epochs')\n",
    "plt.ylabel('Error')\n",
    "\n",
    "plt.tight_layout()\n",
    "plt.savefig('./output/fig-perceptron2_errors.png', dpi=300)\n",
    "plt.show()"
   ]
  },
  {
   "cell_type": "markdown",
   "metadata": {
    "nbpresent": {
     "id": "d5dc4419-e04b-4523-bc12-53f09d1921b6"
    }
   },
   "source": [
    "As we can see, the weights never stop updating. To terminate the training process, we have to set a maximum number of epochs."
   ]
  },
  {
   "cell_type": "markdown",
   "metadata": {
    "nbpresent": {
     "id": "51255d1c-904b-4b68-83e8-c76e49e9c204"
    }
   },
   "source": [
    "## Implementing Adaline with GD\n",
    "The ADAptive LInear NEuron (Adaline) is similar to the Perceptron, except that it defines a cost function based on the soft output and an optimization problem. We can therefore leverage various optimization techniques to train Adaline in a more theoretic grounded manner. Let's implement the Adaline using the batch gradient descent (GD) algorithm:"
   ]
  },
  {
   "cell_type": "code",
   "execution_count": 11,
   "metadata": {
    "nbpresent": {
     "id": "f528296c-dfee-40fc-b6e9-853a12a63575"
    }
   },
   "outputs": [],
   "source": [
    "class AdalineGD(object):\n",
    "    \"\"\"ADAptive LInear NEuron classifier.\n",
    "\n",
    "    Parameters\n",
    "    ------------\n",
    "    eta : float\n",
    "        Learning rate (between 0.0 and 1.0)\n",
    "    n_iter : int\n",
    "        Passes over the training dataset.\n",
    "    random_state : int\n",
    "        The seed of the pseudo random number generator.\n",
    "\n",
    "    Attributes\n",
    "    -----------\n",
    "    w_ : 1d-array\n",
    "        Weights after fitting.\n",
    "    errors_ : list\n",
    "        Number of misclassifications in every epoch.\n",
    "\n",
    "    \"\"\"\n",
    "    def __init__(self, eta=0.01, n_iter=50, random_state=1):\n",
    "        self.eta = eta\n",
    "        self.n_iter = n_iter\n",
    "        self.random_state = random_state\n",
    "\n",
    "    def fit(self, X, y):\n",
    "        \"\"\" Fit training data.\n",
    "\n",
    "        Parameters\n",
    "        ----------\n",
    "        X : array-like; shape = [n_samples, n_features]\n",
    "            Training vectors, where n_samples is the number of samples and\n",
    "            n_features is the number of features.\n",
    "        y : array-like; shape = [n_samples]\n",
    "            Target values or labels.\n",
    "\n",
    "        Returns\n",
    "        -------\n",
    "        self : object\n",
    "\n",
    "        \"\"\"\n",
    "        rgen = np.random.RandomState(self.random_state)\n",
    "        self.w_ = rgen.normal(loc=0.0, scale=0.01, size=1+X.shape[1])\n",
    "        self.cost_ = []\n",
    "\n",
    "        for i in range(self.n_iter):\n",
    "            output = self.activation(X)\n",
    "            \n",
    "            # Cost function\n",
    "            error = (y - output)\n",
    "            cost = (error**2).sum() / 2.0\n",
    "            self.cost_.append(cost)\n",
    "            \n",
    "            # Update rule\n",
    "            self.w_[1:] += self.eta * X.T.dot(error)\n",
    "            self.w_[0] += self.eta * error.sum()\n",
    "            \n",
    "        return self\n",
    "\n",
    "    def net_input(self, X):\n",
    "        \"\"\"Calculate net input\"\"\"\n",
    "        return np.dot(X, self.w_[1:]) + self.w_[0]\n",
    "\n",
    "    def activation(self, X):\n",
    "        \"\"\"Compute linear activation\"\"\"\n",
    "        return self.net_input(X)\n",
    "\n",
    "    def predict(self, X):\n",
    "        \"\"\"Return class label after unit step\"\"\"\n",
    "        return np.where(self.activation(X) >= 0.0, 1, -1)"
   ]
  },
  {
   "cell_type": "markdown",
   "metadata": {
    "nbpresent": {
     "id": "102123a0-c8e5-4b74-81a4-6342fbbe27cf"
    }
   },
   "source": [
    "As discussed in the lecture, a good learning rate $\\eta$ is a key to the optimal convergence. In practice, it often requires some experimentation to find a good learning rate. Let's plot the cost against the number of epochs for the two different learning rates:"
   ]
  },
  {
   "cell_type": "code",
   "execution_count": 12,
   "metadata": {
    "nbpresent": {
     "id": "91d99b13-47d9-45c5-9443-411001cc70a9"
    }
   },
   "outputs": [
    {
     "data": {
      "image/png": "[encoded data removed]",
      "text/plain": [
       "<Figure size 576x288 with 2 Axes>"
      ]
     },
     "metadata": {
      "needs_background": "light"
     },
     "output_type": "display_data"
    }
   ],
   "source": [
    "fig, ax = plt.subplots(nrows=1, ncols=2, figsize=(8, 4))\n",
    "\n",
    "ada1 = AdalineGD(n_iter=20, eta=0.0001).fit(X_train_std, y_train)\n",
    "ax[0].plot(range(1, len(ada1.cost_) + 1), ada1.cost_, marker='o')\n",
    "ax[0].set_xlabel('Epochs')\n",
    "ax[0].set_ylabel('Sum-squared-error')\n",
    "ax[0].set_title('Adaline - Learning rate 0.0001')\n",
    "\n",
    "ada2 = AdalineGD(n_iter=20, eta=0.1).fit(X_train_std, y_train)\n",
    "ax[1].plot(range(1, len(ada2.cost_) + 1), np.log10(ada2.cost_), marker='o')\n",
    "ax[1].set_xlabel('Epochs')\n",
    "ax[1].set_ylabel('log(Sum-squared-error)')\n",
    "ax[1].set_title('Adaline - Learning rate 0.1')\n",
    "\n",
    "plt.tight_layout()\n",
    "plt.savefig('./output/fig-adaline-gd-overshoot.png', dpi=300)\n",
    "plt.show()"
   ]
  },
  {
   "cell_type": "markdown",
   "metadata": {
    "nbpresent": {
     "id": "9d63965c-b783-4930-bed9-d3af5cdf5535"
    }
   },
   "source": [
    "The left figure shows what could happen if we choose a too small learning rate: although the cost decreases, the descent is too small that the algorithm would require a **large number of epochs** to converge. On the other hand, the right figure shows what could happen if we choose a learning rate that is too large: instead of minimizing the cost function, the error becomes larger in every epoch because we **overshoot** the optimal point every time. This is illustrated below:"
   ]
  },
  {
   "cell_type": "markdown",
   "metadata": {},
   "source": [
    "![alt text](./fig-overshoot.png)"
   ]
  },
  {
   "cell_type": "markdown",
   "metadata": {
    "nbpresent": {
     "id": "82785bb7-e0dd-4373-a51f-d5dd2570dee7"
    }
   },
   "source": [
    "With a properly chosen learning rate  $\\eta$ , the AdalineGD converges and gives a better prediction accuracy (80%) as compared with the Perceptron (70%):"
   ]
  },
  {
   "cell_type": "code",
   "execution_count": 13,
   "metadata": {
    "nbpresent": {
     "id": "a64481b2-feb6-48b2-8233-e523d5da8217"
    }
   },
   "outputs": [
    {
     "data": {
      "image/png": "[encoded data removed]",
      "text/plain": [
       "<Figure size 432x288 with 1 Axes>"
      ]
     },
     "metadata": {
      "needs_background": "light"
     },
     "output_type": "display_data"
    },
    {
     "name": "stdout",
     "output_type": "stream",
     "text": [
      "Misclassified samples: 2\n",
      "Accuracy: 0.80\n"
     ]
    },
    {
     "data": {
      "image/png": "[encoded data removed]",
      "text/plain": [
       "<Figure size 432x288 with 1 Axes>"
      ]
     },
     "metadata": {
      "needs_background": "light"
     },
     "output_type": "display_data"
    }
   ],
   "source": [
    "ada = AdalineGD(n_iter=20, eta=0.01)\n",
    "ada.fit(X_train_std, y_train)\n",
    "\n",
    "# cost values\n",
    "\n",
    "plt.plot(range(1, len(ada.cost_) + 1), ada.cost_, marker='o')\n",
    "plt.xlabel('Epochs')\n",
    "plt.ylabel('Sum-squared-error')\n",
    "\n",
    "plt.tight_layout()\n",
    "plt.savefig('./output/fig-adalin-gd-cost.png', dpi=300)\n",
    "plt.show()\n",
    "\n",
    "# testing accuracy\n",
    "\n",
    "y_pred = ada.predict(X_test_std)\n",
    "print('Misclassified samples: %d' % (y_test != y_pred).sum())\n",
    "print('Accuracy: %.2f' % accuracy_score(y_test, y_pred))\n",
    "\n",
    "# plot decision boundary \n",
    "\n",
    "plot_decision_regions(X_combined_std, y_combined, \n",
    "                      classifier=ada, test_idx=range(len(y_train),\n",
    "                                                    len(y_train) + len(y_test)))\n",
    "plt.title('Adaline - Gradient Descent')\n",
    "plt.xlabel('Petal length [Standardized]')\n",
    "plt.ylabel('Petal width [Standardized]')\n",
    "plt.legend(loc='upper left')\n",
    "plt.tight_layout()\n",
    "plt.savefig('./output/fig-adaline-gd-boundary.png', dpi=300)\n",
    "plt.show()"
   ]
  },
  {
   "cell_type": "markdown",
   "metadata": {
    "nbpresent": {
     "id": "f012e927-c87e-48ce-a583-4f0c7297b9b0"
    }
   },
   "source": [
    "## Implementing Adaline with SGD\n",
    "Running the gradient descent can be computationally costly when the number of examples $N$ in a training dataset is large since we need to scan the entire dataset every time to take one descent step. The stochastic gradient descent (SGD) update the weights incrementally for each minibatch of size $M$, $M \\ll N$. SGD usually reaches convergence much faster because of the more frequent weight updates. Since each gradient is calculated based on few training examples, the point taken at each step may \"wander\" randomly and the cost value may not always decrease. However, this may be considered as an advantage in that it can escape shallow local minima when the cost function is not convex. To prevent SGD from wandering around the optimal point, we often replace the constant learning rate\u001f $\\eta$ by an adaptive learning rate that decreases over time. For example, we can let\n",
    "$$\\eta=\\frac{a}{t+b},$$ \n",
    "where $t$ is the iteration number and $a$ and $b$ are constants. Furthermore, to hold the assumption that each minibatch consists of \"randomly sampled\" points from the same data generation distribution when we regard the cost function as an expectation, it is important to feed SGD with data in a random order, which is why we shuffle the training set for every epoch.\n",
    "\n",
    "Let's implement the Adaline with SGD. For simplicity, we use a constant learning rate and set $M = 1$:"
   ]
  },
  {
   "cell_type": "code",
   "execution_count": 14,
   "metadata": {
    "nbpresent": {
     "id": "0b7c77f9-876c-4825-878f-fd961e047b96"
    }
   },
   "outputs": [],
   "source": [
    "class AdalineSGD(object):\n",
    "    \"\"\"ADAptive LInear NEuron classifier.\n",
    "\n",
    "    Parameters\n",
    "    ------------\n",
    "    eta : float\n",
    "        Learning rate (between 0.0 and 1.0)\n",
    "    n_iter : int\n",
    "        Passes over the training dataset.\n",
    "\n",
    "    Attributes\n",
    "    -----------\n",
    "    w_ : 1d-array\n",
    "        Weights after fitting.\n",
    "    errors_ : list\n",
    "        Number of misclassifications in every epoch.\n",
    "    shuffle : bool (default: True)\n",
    "        Shuffles training data every epoch if True to prevent cycles.\n",
    "    random_state : int\n",
    "        Set random state for shuffling and initializing the weights.\n",
    "        \n",
    "    \"\"\"\n",
    "    def __init__(self, eta=0.01, n_iter=50, shuffle=True, random_state=1):\n",
    "        self.eta = eta\n",
    "        self.n_iter = n_iter\n",
    "        self.w_initialized = False\n",
    "        self.shuffle = shuffle\n",
    "        if random_state : seed(random_state)\n",
    "        \n",
    "    def fit(self, X, y):\n",
    "        \"\"\" Fit training data.\n",
    "\n",
    "        Parameters\n",
    "        ----------\n",
    "        X : array-like; shape = [n_samples, n_features]\n",
    "            Training vectors, where n_samples is the number of samples and\n",
    "            n_features is the number of features.\n",
    "        y : array-like; shape = [n_samples]\n",
    "            Target values or labels.\n",
    "\n",
    "        Returns\n",
    "        -------\n",
    "        self : object\n",
    "\n",
    "        \"\"\"\n",
    "        self._initialize_weights(X.shape[1])\n",
    "        self.cost_ = []\n",
    "        for i in range(self.n_iter):\n",
    "            if self.shuffle:\n",
    "                X, y = self._shuffle(X, y)\n",
    "            cost = []\n",
    "            for xi, yi in zip(X, y):\n",
    "                cost.append(self._update_weights(xi, yi))\n",
    "            avg_cost = sum(cost) / len(y)\n",
    "            self.cost_.append(avg_cost)\n",
    "        return self\n",
    "\n",
    "    def _shuffle(self, X, y):\n",
    "        \"\"\"Shuffle training data\"\"\"\n",
    "        r = np.random.permutation(len(y))\n",
    "        return X[r], y[r]\n",
    "    \n",
    "    def _initialize_weights(self, m):\n",
    "        \"\"\"Randomly initialize weights\"\"\"\n",
    "        self.w_ = np.random.normal(loc=0.0, scale=0.01, size=1 + m)\n",
    "        self.w_initialized = True\n",
    "        \n",
    "    def _update_weights(self, xi, yi):\n",
    "        \"\"\"Apply Adaline learning rule to update the weights\"\"\"\n",
    "        output = self.activation(xi)\n",
    "        \n",
    "        # Cost function\n",
    "        error = (yi - output)\n",
    "        cost = 0.5 * error**2\n",
    "        \n",
    "        # Update rule\n",
    "        self.w_[1:] += self.eta * xi.dot(error)\n",
    "        self.w_[0] += self.eta * error\n",
    "        \n",
    "        return cost\n",
    "    \n",
    "    def net_input(self, X):\n",
    "        \"\"\"Calculate net input\"\"\"\n",
    "        return np.dot(X, self.w_[1:]) + self.w_[0]\n",
    "\n",
    "    def activation(self, X):\n",
    "        \"\"\"Compute linear activation\"\"\"\n",
    "        return self.net_input(X)\n",
    "\n",
    "    def predict(self, X):\n",
    "        \"\"\"Return class label after unit step\"\"\"\n",
    "        return np.where(self.activation(X) >= 0.0, 1, -1)\n",
    "\n",
    "    def partial_fit(self, X, y):\n",
    "        \"\"\"Fit training data without reinitializing the weights\"\"\"\n",
    "        if not self.w_initialized:\n",
    "            self._initialize_weights(X.shape[1])\n",
    "        if y.ravel().shape[0] > 1:\n",
    "            for xi, yi in zip(X, y):\n",
    "                self._update_weights(xi, yi)\n",
    "        else:\n",
    "            self._update_weights(X, y)\n",
    "        return self"
   ]
  },
  {
   "cell_type": "markdown",
   "metadata": {},
   "source": [
    "We pass `random_state` to `np.random.seed` so it will be used for shuffling and initializing the weights. If we modify the `activation()` method so that it is identical to the `predict()` method, then this class degenerates into the Perceptron with shuffling."
   ]
  },
  {
   "cell_type": "markdown",
   "metadata": {},
   "source": [
    "**NOTE**: \n",
    "\n",
    "Although not shown in our implementation, setting a larger minibatch size $M > 1$ is advantages on modern CPU architecture as we can replace the for-loop over the training samples by **vectorized** operations, which is usually improve the computational efficiency. Vectorization means that an elemental arithmetic operation is automatically applied to all elements in an array. By formulating our arithmetic operations as a sequence of instructions on an array rather than performing a set of operations for each element one at a time, we can make better use of our modern CPU architectures with Single Instruction, Multiple Data (SIMD) support. Furthermore, many scientific libraries like NumPy use highly optimized linear algebra libraries, such as Basic Linear Algebra Subprograms (BLAS) and Linear Algebra Package (LAPACK) that implement vectorized operations in C or Fortran."
   ]
  },
  {
   "cell_type": "markdown",
   "metadata": {
    "nbpresent": {
     "id": "a6994645-207a-408a-a4a0-48eec2a30a72"
    }
   },
   "source": [
    "Let's see how Adaline performs with SGD:"
   ]
  },
  {
   "cell_type": "code",
   "execution_count": 15,
   "metadata": {
    "nbpresent": {
     "id": "69b750c1-ef3f-4f34-b998-73e9ee386c67"
    }
   },
   "outputs": [
    {
     "data": {
      "image/png": "[encoded data removed]",
      "text/plain": [
       "<Figure size 432x288 with 1 Axes>"
      ]
     },
     "metadata": {
      "needs_background": "light"
     },
     "output_type": "display_data"
    },
    {
     "name": "stdout",
     "output_type": "stream",
     "text": [
      "Misclassified samples: 2\n",
      "Accuracy: 0.80\n"
     ]
    },
    {
     "data": {
      "image/png": "[encoded data removed]",
      "text/plain": [
       "<Figure size 432x288 with 1 Axes>"
      ]
     },
     "metadata": {
      "needs_background": "light"
     },
     "output_type": "display_data"
    }
   ],
   "source": [
    "adas = AdalineSGD(n_iter=20, eta=0.01, random_state=1)\n",
    "adas.fit(X_train_std, y_train)\n",
    "\n",
    "# Cost values\n",
    "plt.plot(range(1, len(adas.cost_) + 1), adas.cost_, \n",
    "         marker='o', label='SGD')\n",
    "plt.plot(range(1, len(ada.cost_) + 1), np.array(ada.cost_) / len(y_train), \n",
    "         marker='x', linestyle='--', label='GD')\n",
    "plt.xlabel('Epochs')\n",
    "plt.ylabel('Sum-squared-error')\n",
    "plt.legend(loc='upper right')\n",
    "\n",
    "plt.tight_layout()\n",
    "plt.savefig('./output/fig-adaline-sgd-cost.png', dpi=300)\n",
    "plt.show()\n",
    "\n",
    "# Testing accuracy\n",
    "y_pred = adas.predict(X_test_std)\n",
    "print('Misclassified samples: %d' % (y_test != y_pred).sum())\n",
    "print('Accuracy: %.2f' % accuracy_score(y_test, y_pred))\n",
    "\n",
    "# Plot decision boundary \n",
    "plot_decision_regions(X_combined_std, y_combined, \n",
    "                      classifier=adas, test_idx=range(len(y_train),\n",
    "                                                      len(y_train) + len(y_test)))\n",
    "plt.title('Adaline - Stochastic Gradient Descent')\n",
    "plt.xlabel('Petal length [Standardized]')\n",
    "plt.ylabel('Petal width [Standardized]')\n",
    "plt.legend(loc='upper left')\n",
    "plt.tight_layout()\n",
    "plt.savefig('./output/fig-adaline-sgd-boundary.png', dpi=300)\n",
    "plt.show()"
   ]
  },
  {
   "cell_type": "markdown",
   "metadata": {},
   "source": [
    "As we can see, the cost value goes down pretty quickly, and is only sightly worse than the (normalized) cost value of the batch gradient descent after 7 epochs."
   ]
  },
  {
   "cell_type": "markdown",
   "metadata": {
    "nbpresent": {
     "id": "49af673e-f31b-4d3f-8041-d5df855dd6fe"
    }
   },
   "source": [
    "Another advantage of stochastic gradient descent is that we can use it for **online learning**. In online learning, a model is trained on-the-fly as new training data arrives. This is especially useful if we are accumulating large amounts of data over time. For example, customer data in typical web applications. Using online learning, the system can immediately adapt to changes without training from the scratch. Furthermore, if storage space is an issue, we can discard the training data after updating the model. In our implementation, we provide the `partial_fit()` method for online learning."
   ]
  },
  {
   "cell_type": "markdown",
   "metadata": {},
   "source": [
    "# <center>Assignment</center>\n",
    "\n",
    "Implement the Adaline with SGD which can set different batch_size ($M$) as parameter. Then, use the [Iris](https://archive.ics.uci.edu/ml/datasets/iris) dataset to fit your model with 3 different $M$ (including $M = 1$) and fixed learning rate $\\eta$ and print out the accuracy of each model. Last, plot the cost against the number of epochs using different $M$ in one figure."
   ]
  },
  {
   "cell_type": "markdown",
   "metadata": {},
   "source": [
    "## Requirements:\n",
    "\n",
    "- Submit to eeclass with your code file ```Lab04-1_{student_id}.ipynb``` and image file ```Lab04-1_student_id.png``` (e.g. ```Lab04_110069999.ipynb```).\n",
    "- The code file only contains the Assignment part.\n",
    "- You can take the model we taught in lab as reference.\n",
    "- To simplfy your work, you can ignore part of data which is not divisible by M.\n",
    "- Deadline: **2021-10-14(Thur) 23:59**.\n",
    "\n",
    "Your code file should contain:\n",
    "1. Split training and testing data (test_size = 20% of the whole dataset)\n",
    "2. Handcrafted Adaline classifier with M as parameter.\n",
    "3. Fit model with 3 different M and fixed η. (including M=1)\n",
    "4. Print the accuracy of each model.\n",
    "5. Plot the cost against the number of epochs using different M in one figure.\n",
    "\n",
    "Your image file should contain:\n",
    "1. Figure of the cost against the number of epochs using different M."
   ]
  },
  {
   "cell_type": "code",
   "execution_count": 16,
   "metadata": {},
   "outputs": [
    {
     "data": {
      "text/html": [
       "<div>\n",
       "<style scoped>\n",
       "    .dataframe tbody tr th:only-of-type {\n",
       "        vertical-align: middle;\n",
       "    }\n",
       "\n",
       "    .dataframe tbody tr th {\n",
       "        vertical-align: top;\n",
       "    }\n",
       "\n",
       "    .dataframe thead th {\n",
       "        text-align: right;\n",
       "    }\n",
       "</style>\n",
       "<table border=\"1\" class=\"dataframe\">\n",
       "  <thead>\n",
       "    <tr style=\"text-align: right;\">\n",
       "      <th></th>\n",
       "      <th>Sepal length</th>\n",
       "      <th>Sepal width</th>\n",
       "      <th>Petal length</th>\n",
       "      <th>Petal width</th>\n",
       "      <th>Class label</th>\n",
       "    </tr>\n",
       "  </thead>\n",
       "  <tbody>\n",
       "    <tr>\n",
       "      <th>0</th>\n",
       "      <td>5.1</td>\n",
       "      <td>3.5</td>\n",
       "      <td>1.4</td>\n",
       "      <td>0.2</td>\n",
       "      <td>Iris-setosa</td>\n",
       "    </tr>\n",
       "    <tr>\n",
       "      <th>1</th>\n",
       "      <td>4.9</td>\n",
       "      <td>3.0</td>\n",
       "      <td>1.4</td>\n",
       "      <td>0.2</td>\n",
       "      <td>Iris-setosa</td>\n",
       "    </tr>\n",
       "    <tr>\n",
       "      <th>2</th>\n",
       "      <td>4.7</td>\n",
       "      <td>3.2</td>\n",
       "      <td>1.3</td>\n",
       "      <td>0.2</td>\n",
       "      <td>Iris-setosa</td>\n",
       "    </tr>\n",
       "    <tr>\n",
       "      <th>3</th>\n",
       "      <td>4.6</td>\n",
       "      <td>3.1</td>\n",
       "      <td>1.5</td>\n",
       "      <td>0.2</td>\n",
       "      <td>Iris-setosa</td>\n",
       "    </tr>\n",
       "    <tr>\n",
       "      <th>4</th>\n",
       "      <td>5.0</td>\n",
       "      <td>3.6</td>\n",
       "      <td>1.4</td>\n",
       "      <td>0.2</td>\n",
       "      <td>Iris-setosa</td>\n",
       "    </tr>\n",
       "  </tbody>\n",
       "</table>\n",
       "</div>"
      ],
      "text/plain": [
       "   Sepal length  Sepal width  Petal length  Petal width  Class label\n",
       "0           5.1          3.5           1.4          0.2  Iris-setosa\n",
       "1           4.9          3.0           1.4          0.2  Iris-setosa\n",
       "2           4.7          3.2           1.3          0.2  Iris-setosa\n",
       "3           4.6          3.1           1.5          0.2  Iris-setosa\n",
       "4           5.0          3.6           1.4          0.2  Iris-setosa"
      ]
     },
     "metadata": {},
     "output_type": "display_data"
    },
    {
     "name": "stdout",
     "output_type": "stream",
     "text": [
      "#Training data points: 80\n",
      "#Testing data points: 20\n",
      "Class labels: [-1  1]\n"
     ]
    }
   ],
   "source": [
    "import pandas as pd\n",
    "import numpy as np\n",
    "from sklearn.model_selection import train_test_split\n",
    "from sklearn.preprocessing import StandardScaler\n",
    "from IPython.display import display\n",
    "\n",
    "df = pd.read_csv('https://archive.ics.uci.edu/ml/'\n",
    "        'machine-learning-databases/iris/iris.data', header=None)\n",
    "df.columns = ['Sepal length', 'Sepal width', 'Petal length', 'Petal width', 'Class label']\n",
    "display(df.head())\n",
    "\n",
    "X = df[['Petal length', 'Petal width']].values\n",
    "y = pd.factorize(df['Class label'])[0]\n",
    "\n",
    "# discard exmaples in the first class\n",
    "X = X[50:150]\n",
    "y = np.where(y[50:150] == 2, -1, y[50:150])\n",
    "\n",
    "X_train, X_test, y_train, y_test = train_test_split(X, y, test_size=0.2, random_state=1)\n",
    "\n",
    "sc = StandardScaler()\n",
    "sc.fit(X_train)\n",
    "X_train_std = sc.transform(X_train)\n",
    "X_test_std = sc.transform(X_test)\n",
    "\n",
    "print('#Training data points: %d' % X_train.shape[0])\n",
    "print('#Testing data points: %d' % X_test.shape[0])\n",
    "print('Class labels: %s' % np.unique(y))"
   ]
  },
  {
   "cell_type": "code",
   "execution_count": null,
   "metadata": {},
   "outputs": [],
   "source": []
  }
 ],
 "metadata": {
  "anaconda-cloud": {},
  "kernelspec": {
   "display_name": "Python 3",
   "language": "python",
   "name": "python3"
  },
  "language_info": {
   "codemirror_mode": {
    "name": "ipython",
    "version": 3
   },
   "file_extension": ".py",
   "mimetype": "text/x-python",
   "name": "python",
   "nbconvert_exporter": "python",
   "pygments_lexer": "ipython3",
   "version": "3.6.8"
  },
  "nbpresent": {
   "slides": {
    "0f41f591-8d90-4b84-9e07-8077656aa1e3": {
     "id": "0f41f591-8d90-4b84-9e07-8077656aa1e3",
     "prev": "e1b21e24-ee3b-4699-a42b-3f4d7e2a2925",
     "regions": {
      "5e36faef-d51f-48b8-809d-5667c3ff6d06": {
       "attrs": {
        "height": 0.8,
        "width": 0.8,
        "x": 0.1,
        "y": 0.1
       },
       "content": {
        "cell": "ee7250bf-1bf8-4760-936e-7158b26b9532",
        "part": "whole"
       },
       "id": "5e36faef-d51f-48b8-809d-5667c3ff6d06"
      }
     }
    },
    "12f30c09-9f5c-46b4-8b93-7a0e78fbc82f": {
     "id": "12f30c09-9f5c-46b4-8b93-7a0e78fbc82f",
     "prev": "52c4472a-56d9-478c-90ba-90be33cfc42d",
     "regions": {
      "8ae7b05b-6dec-40c4-98e1-dfdbebf06b03": {
       "attrs": {
        "height": 0.8,
        "width": 0.8,
        "x": 0.1,
        "y": 0.1
       },
       "content": {
        "cell": "3078d14a-006d-4508-affc-2cb868c56671",
        "part": "whole"
       },
       "id": "8ae7b05b-6dec-40c4-98e1-dfdbebf06b03"
      }
     }
    },
    "259d917a-08b6-4323-8742-c8dbfe02b8d4": {
     "id": "259d917a-08b6-4323-8742-c8dbfe02b8d4",
     "prev": "82dbbb18-e8c9-446d-a3bd-345b75e27574",
     "regions": {
      "efa1859c-b770-45fc-a9f7-fd6557653299": {
       "attrs": {
        "height": 0.8,
        "width": 0.8,
        "x": 0.1,
        "y": 0.1
       },
       "content": {
        "cell": "f528296c-dfee-40fc-b6e9-853a12a63575",
        "part": "whole"
       },
       "id": "efa1859c-b770-45fc-a9f7-fd6557653299"
      }
     }
    },
    "273a9041-430b-43fd-866d-c6f8d63f3e08": {
     "id": "273a9041-430b-43fd-866d-c6f8d63f3e08",
     "prev": "9c83d0b0-eca4-40ba-b78f-08d4d7011a40",
     "regions": {
      "7cd4cb59-465c-443d-861d-b367b6b5abf5": {
       "attrs": {
        "height": 0.8,
        "width": 0.8,
        "x": 0.1,
        "y": 0.1
       },
       "content": {
        "cell": "69b750c1-ef3f-4f34-b998-73e9ee386c67",
        "part": "whole"
       },
       "id": "7cd4cb59-465c-443d-861d-b367b6b5abf5"
      }
     }
    },
    "2f3db974-9f74-4d66-be1a-225cf3d6a1db": {
     "id": "2f3db974-9f74-4d66-be1a-225cf3d6a1db",
     "prev": "93b3b88d-3e61-43aa-bd5f-257af2576bff",
     "regions": {
      "6331e511-34fa-459b-8e00-c62b191928df": {
       "attrs": {
        "height": 0.8,
        "width": 0.8,
        "x": 0.1,
        "y": 0.1
       },
       "content": {
        "cell": "c5fe85dd-0fb8-4e78-a560-6871ae527862",
        "part": "whole"
       },
       "id": "6331e511-34fa-459b-8e00-c62b191928df"
      }
     }
    },
    "30282354-f66f-4f8c-825d-e0f4b9789f31": {
     "id": "30282354-f66f-4f8c-825d-e0f4b9789f31",
     "prev": "4bea71b4-c78b-4c96-9685-12533caab2d2",
     "regions": {
      "6e4c7b0d-b643-43e5-b349-b1627dc415ba": {
       "attrs": {
        "height": 0.8,
        "width": 0.8,
        "x": 0.1,
        "y": 0.1
       },
       "content": {
        "cell": "f012e927-c87e-48ce-a583-4f0c7297b9b0",
        "part": "whole"
       },
       "id": "6e4c7b0d-b643-43e5-b349-b1627dc415ba"
      }
     }
    },
    "30bb9b1e-30e6-48e8-b4e1-9868c4aa4911": {
     "id": "30bb9b1e-30e6-48e8-b4e1-9868c4aa4911",
     "prev": "4f74a544-0528-418f-8bd3-c9cd714a8ab4",
     "regions": {
      "4833396a-6254-4652-9f8b-ef5785346fcd": {
       "attrs": {
        "height": 0.8,
        "width": 0.8,
        "x": 0.1,
        "y": 0.1
       },
       "content": {
        "cell": "34410c7d-6856-478f-8472-2987d0a7bbd2",
        "part": "whole"
       },
       "id": "4833396a-6254-4652-9f8b-ef5785346fcd"
      }
     }
    },
    "3eae327c-d96d-413c-b5ca-803dd9a74ae7": {
     "id": "3eae327c-d96d-413c-b5ca-803dd9a74ae7",
     "prev": "e431742c-824e-46d7-8096-ba4efffb6ea4",
     "regions": {
      "31243610-5f3d-4a7c-86d3-dfcd617f1e4e": {
       "attrs": {
        "height": 0.8,
        "width": 0.8,
        "x": 0.1,
        "y": 0.1
       },
       "content": {
        "cell": "03b72a9a-40a4-4836-a013-522b24695e86",
        "part": "whole"
       },
       "id": "31243610-5f3d-4a7c-86d3-dfcd617f1e4e"
      }
     }
    },
    "4460e54c-8ade-4ab6-92f6-8efc8d7402a2": {
     "id": "4460e54c-8ade-4ab6-92f6-8efc8d7402a2",
     "prev": null,
     "regions": {
      "c5643226-40af-42a5-a738-613be9326e2e": {
       "attrs": {
        "height": 0.8,
        "width": 0.8,
        "x": 0.1,
        "y": 0.1
       },
       "content": {
        "cell": "05cbbaa4-4736-4a0f-b6c4-9ffd5d996acb",
        "part": "whole"
       },
       "id": "c5643226-40af-42a5-a738-613be9326e2e"
      }
     }
    },
    "47c6394b-5be0-4d01-8f68-eed8f08c8585": {
     "id": "47c6394b-5be0-4d01-8f68-eed8f08c8585",
     "prev": "85e9c445-2d8a-4934-a7fc-9cc36686367d",
     "regions": {
      "93c572e5-c3a3-4d23-ab7e-36b484bbfcf6": {
       "attrs": {
        "height": 0.8,
        "width": 0.8,
        "x": 0.1,
        "y": 0.1
       },
       "content": {
        "cell": "022d3155-d8a4-4c24-83ec-56b4b87cf070",
        "part": "whole"
       },
       "id": "93c572e5-c3a3-4d23-ab7e-36b484bbfcf6"
      }
     }
    },
    "48d1ae10-6feb-45c5-8b38-7206db0808de": {
     "id": "48d1ae10-6feb-45c5-8b38-7206db0808de",
     "prev": "9184f04e-fa2e-4e64-b129-35666908ef93",
     "regions": {
      "40024d01-3328-4b76-a132-60036a5cb75c": {
       "attrs": {
        "height": 0.8,
        "width": 0.8,
        "x": 0.1,
        "y": 0.1
       },
       "content": {
        "cell": "fc3ebc63-f3db-428c-b8d3-4fd451dd4e13",
        "part": "whole"
       },
       "id": "40024d01-3328-4b76-a132-60036a5cb75c"
      }
     }
    },
    "4bea71b4-c78b-4c96-9685-12533caab2d2": {
     "id": "4bea71b4-c78b-4c96-9685-12533caab2d2",
     "prev": "660beed2-6a35-4f52-b051-eff5c1854669",
     "regions": {
      "2ee1917a-9a22-4969-a876-559f7c1edd70": {
       "attrs": {
        "height": 0.8,
        "width": 0.8,
        "x": 0.1,
        "y": 0.1
       },
       "content": {
        "cell": "a64481b2-feb6-48b2-8233-e523d5da8217",
        "part": "whole"
       },
       "id": "2ee1917a-9a22-4969-a876-559f7c1edd70"
      }
     }
    },
    "4f74a544-0528-418f-8bd3-c9cd714a8ab4": {
     "id": "4f74a544-0528-418f-8bd3-c9cd714a8ab4",
     "prev": "acdc47dc-75c0-4504-8675-5040323a2475",
     "regions": {
      "cf150a8a-2ece-44cd-91c1-603694b624d5": {
       "attrs": {
        "height": 0.8,
        "width": 0.8,
        "x": 0.1,
        "y": 0.1
       },
       "content": {
        "cell": "ef5e28a6-c51c-4969-95ec-406745c134d0",
        "part": "whole"
       },
       "id": "cf150a8a-2ece-44cd-91c1-603694b624d5"
      }
     }
    },
    "4f7b5841-3e32-4f06-b382-c3759e1fe46e": {
     "id": "4f7b5841-3e32-4f06-b382-c3759e1fe46e",
     "prev": "e3140e01-1a84-4c77-95a7-aa91d7f701e1",
     "regions": {
      "01d6f686-628b-4fc6-8c3b-a4c459cfc630": {
       "attrs": {
        "height": 0.8,
        "width": 0.8,
        "x": 0.1,
        "y": 0.1
       },
       "content": {
        "cell": "57b086f2-28b2-473a-b44e-46a1d293f6a4",
        "part": "whole"
       },
       "id": "01d6f686-628b-4fc6-8c3b-a4c459cfc630"
      }
     }
    },
    "52c4472a-56d9-478c-90ba-90be33cfc42d": {
     "id": "52c4472a-56d9-478c-90ba-90be33cfc42d",
     "prev": "7183eeb5-4747-45a7-aa89-821dec25d08e",
     "regions": {
      "2e69e8b4-6137-4b2c-a326-86414d2270b3": {
       "attrs": {
        "height": 0.8,
        "width": 0.8,
        "x": 0.1,
        "y": 0.1
       },
       "content": {
        "cell": "a497ce1e-274b-4663-b583-87003390a164",
        "part": "whole"
       },
       "id": "2e69e8b4-6137-4b2c-a326-86414d2270b3"
      }
     }
    },
    "55bee383-367b-4003-8afa-ba138c5504ed": {
     "id": "55bee383-367b-4003-8afa-ba138c5504ed",
     "prev": "fe7f736a-bbd9-4c26-bce4-9f6b326ff4d4",
     "regions": {
      "43ec64e4-6e84-4c0d-aa0a-1148b7e217fe": {
       "attrs": {
        "height": 0.8,
        "width": 0.8,
        "x": 0.1,
        "y": 0.1
       },
       "content": {
        "cell": "be00ef88-d28b-470c-a9cd-9b71ecf10cec",
        "part": "whole"
       },
       "id": "43ec64e4-6e84-4c0d-aa0a-1148b7e217fe"
      }
     }
    },
    "660beed2-6a35-4f52-b051-eff5c1854669": {
     "id": "660beed2-6a35-4f52-b051-eff5c1854669",
     "prev": "3eae327c-d96d-413c-b5ca-803dd9a74ae7",
     "regions": {
      "908ce6ca-e1f5-4c55-8606-f5830e6b755d": {
       "attrs": {
        "height": 0.8,
        "width": 0.8,
        "x": 0.1,
        "y": 0.1
       },
       "content": {
        "cell": "82785bb7-e0dd-4373-a51f-d5dd2570dee7",
        "part": "whole"
       },
       "id": "908ce6ca-e1f5-4c55-8606-f5830e6b755d"
      }
     }
    },
    "67461f8c-5f46-46dd-9435-1cffd600f4cf": {
     "id": "67461f8c-5f46-46dd-9435-1cffd600f4cf",
     "prev": "2f3db974-9f74-4d66-be1a-225cf3d6a1db",
     "regions": {
      "8b85183d-6d0f-4361-93f0-b76b2cc5bfb6": {
       "attrs": {
        "height": 0.8,
        "width": 0.8,
        "x": 0.1,
        "y": 0.1
       },
       "content": {
        "cell": "67e96028-6b1e-4c32-a660-4798d67b6603",
        "part": "whole"
       },
       "id": "8b85183d-6d0f-4361-93f0-b76b2cc5bfb6"
      }
     }
    },
    "6d3047a6-9228-442f-959f-6e371759df06": {
     "id": "6d3047a6-9228-442f-959f-6e371759df06",
     "prev": "30bb9b1e-30e6-48e8-b4e1-9868c4aa4911",
     "regions": {
      "8a7b7a13-0151-4b0b-8e03-43e4efaac764": {
       "attrs": {
        "height": 0.8,
        "width": 0.8,
        "x": 0.1,
        "y": 0.1
       },
       "content": {
        "cell": "22fe6293-bdf4-438c-9493-69720632b577",
        "part": "whole"
       },
       "id": "8a7b7a13-0151-4b0b-8e03-43e4efaac764"
      }
     }
    },
    "6e8aaee5-2623-42e2-b95b-b3589f364be9": {
     "id": "6e8aaee5-2623-42e2-b95b-b3589f364be9",
     "prev": "67461f8c-5f46-46dd-9435-1cffd600f4cf",
     "regions": {
      "756b3c1f-2d73-488a-ac15-706831f30062": {
       "attrs": {
        "height": 0.8,
        "width": 0.8,
        "x": 0.1,
        "y": 0.1
       },
       "content": {
        "cell": "14f29880-3bbb-4a89-98b1-05a758376fcd",
        "part": "whole"
       },
       "id": "756b3c1f-2d73-488a-ac15-706831f30062"
      }
     }
    },
    "7183eeb5-4747-45a7-aa89-821dec25d08e": {
     "id": "7183eeb5-4747-45a7-aa89-821dec25d08e",
     "prev": "ebc2f89d-15ea-41df-be28-151311284e7b",
     "regions": {
      "2fab0645-7b86-420a-a36f-c5c188b6a9e3": {
       "attrs": {
        "height": 0.8,
        "width": 0.8,
        "x": 0.1,
        "y": 0.1
       },
       "content": {
        "cell": "aa5cd16a-9d7c-4d52-bca8-7f9e448ac6bf",
        "part": "whole"
       },
       "id": "2fab0645-7b86-420a-a36f-c5c188b6a9e3"
      }
     }
    },
    "7e6a8fac-54f2-4555-a98f-612ed56242f2": {
     "id": "7e6a8fac-54f2-4555-a98f-612ed56242f2",
     "prev": "259d917a-08b6-4323-8742-c8dbfe02b8d4",
     "regions": {
      "06d8f96b-62b7-458b-a149-6c2c7952df05": {
       "attrs": {
        "height": 0.8,
        "width": 0.8,
        "x": 0.1,
        "y": 0.1
       },
       "content": {
        "cell": "102123a0-c8e5-4b74-81a4-6342fbbe27cf",
        "part": "whole"
       },
       "id": "06d8f96b-62b7-458b-a149-6c2c7952df05"
      }
     }
    },
    "8269ed40-6980-48d4-958d-b4c14c0cd9f8": {
     "id": "8269ed40-6980-48d4-958d-b4c14c0cd9f8",
     "prev": "f072b566-e269-4674-898e-3291b35c5871",
     "regions": {
      "8f62294a-fe4f-4c86-98ea-450d682ff825": {
       "attrs": {
        "height": 0.8,
        "width": 0.8,
        "x": 0.1,
        "y": 0.1
       },
       "content": {
        "cell": "9fd0211a-2300-40af-b202-79a10773755a",
        "part": "whole"
       },
       "id": "8f62294a-fe4f-4c86-98ea-450d682ff825"
      }
     }
    },
    "82dbbb18-e8c9-446d-a3bd-345b75e27574": {
     "id": "82dbbb18-e8c9-446d-a3bd-345b75e27574",
     "prev": "55bee383-367b-4003-8afa-ba138c5504ed",
     "regions": {
      "5cdf397e-5dbf-4185-a5b0-dd3428ab6651": {
       "attrs": {
        "height": 0.8,
        "width": 0.8,
        "x": 0.1,
        "y": 0.1
       },
       "content": {
        "cell": "51255d1c-904b-4b68-83e8-c76e49e9c204",
        "part": "whole"
       },
       "id": "5cdf397e-5dbf-4185-a5b0-dd3428ab6651"
      }
     }
    },
    "83073700-5808-4cc0-880a-edd538a3d75d": {
     "id": "83073700-5808-4cc0-880a-edd538a3d75d",
     "prev": "a6fb010b-78a2-45e0-996a-8c0010729ba3",
     "regions": {
      "96a60e01-16c0-4a47-86db-0218bc87479b": {
       "attrs": {
        "height": 0.8,
        "width": 0.8,
        "x": 0.1,
        "y": 0.1
       },
       "content": {
        "cell": "d5dc4419-e04b-4523-bc12-53f09d1921b6",
        "part": "whole"
       },
       "id": "96a60e01-16c0-4a47-86db-0218bc87479b"
      }
     }
    },
    "85e9c445-2d8a-4934-a7fc-9cc36686367d": {
     "id": "85e9c445-2d8a-4934-a7fc-9cc36686367d",
     "prev": "0f41f591-8d90-4b84-9e07-8077656aa1e3",
     "regions": {
      "a964a699-f10d-4cef-a963-b8fba07d2965": {
       "attrs": {
        "height": 0.8,
        "width": 0.8,
        "x": 0.1,
        "y": 0.1
       },
       "content": {
        "cell": "f55498fa-7f62-4840-8d14-41d4241ff643",
        "part": "whole"
       },
       "id": "a964a699-f10d-4cef-a963-b8fba07d2965"
      }
     }
    },
    "8a841778-9630-4151-b534-a345f68d78eb": {
     "id": "8a841778-9630-4151-b534-a345f68d78eb",
     "prev": "12f30c09-9f5c-46b4-8b93-7a0e78fbc82f",
     "regions": {
      "80490db4-786e-413e-b691-b4f85d408554": {
       "attrs": {
        "height": 0.8,
        "width": 0.8,
        "x": 0.1,
        "y": 0.1
       },
       "content": {
        "cell": "5ede9148-3a37-4b9a-81c2-d4dcc379c667",
        "part": "whole"
       },
       "id": "80490db4-786e-413e-b691-b4f85d408554"
      }
     }
    },
    "9184f04e-fa2e-4e64-b129-35666908ef93": {
     "id": "9184f04e-fa2e-4e64-b129-35666908ef93",
     "prev": "6d3047a6-9228-442f-959f-6e371759df06",
     "regions": {
      "6741df27-3a84-40ac-ae3a-804346c4d08d": {
       "attrs": {
        "height": 0.8,
        "width": 0.8,
        "x": 0.1,
        "y": 0.1
       },
       "content": {
        "cell": "ef24b948-bf88-45b2-b99b-4369237a3b1e",
        "part": "whole"
       },
       "id": "6741df27-3a84-40ac-ae3a-804346c4d08d"
      }
     }
    },
    "93b3b88d-3e61-43aa-bd5f-257af2576bff": {
     "id": "93b3b88d-3e61-43aa-bd5f-257af2576bff",
     "prev": "9ae6b474-c1a5-4cb2-82b9-3d7a2ac7b200",
     "regions": {
      "90f16460-d527-4e96-8047-987706063957": {
       "attrs": {
        "height": 0.8,
        "width": 0.8,
        "x": 0.1,
        "y": 0.1
       },
       "content": {
        "cell": "d8743d42-cfe2-4d3e-bc79-df4c7bf44a51",
        "part": "whole"
       },
       "id": "90f16460-d527-4e96-8047-987706063957"
      }
     }
    },
    "9ae6b474-c1a5-4cb2-82b9-3d7a2ac7b200": {
     "id": "9ae6b474-c1a5-4cb2-82b9-3d7a2ac7b200",
     "prev": "48d1ae10-6feb-45c5-8b38-7206db0808de",
     "regions": {
      "f12b279a-f9b8-44da-915f-95d6ef617634": {
       "attrs": {
        "height": 0.8,
        "width": 0.8,
        "x": 0.1,
        "y": 0.1
       },
       "content": {
        "cell": "8e14465a-a71a-49f6-8f1b-d438f550bcbe",
        "part": "whole"
       },
       "id": "f12b279a-f9b8-44da-915f-95d6ef617634"
      }
     }
    },
    "9c83d0b0-eca4-40ba-b78f-08d4d7011a40": {
     "id": "9c83d0b0-eca4-40ba-b78f-08d4d7011a40",
     "prev": "ba5ee1ee-6a2b-4585-8788-ad22eac2bcd1",
     "regions": {
      "ccff5d40-42aa-4ce1-a14c-4659faa31ef5": {
       "attrs": {
        "height": 0.8,
        "width": 0.8,
        "x": 0.1,
        "y": 0.1
       },
       "content": {
        "cell": "a6994645-207a-408a-a4a0-48eec2a30a72",
        "part": "whole"
       },
       "id": "ccff5d40-42aa-4ce1-a14c-4659faa31ef5"
      }
     }
    },
    "a6fb010b-78a2-45e0-996a-8c0010729ba3": {
     "id": "a6fb010b-78a2-45e0-996a-8c0010729ba3",
     "prev": "6e8aaee5-2623-42e2-b95b-b3589f364be9",
     "regions": {
      "c8fa92d1-5da4-4a69-b0e0-49ed4f010b69": {
       "attrs": {
        "height": 0.8,
        "width": 0.8,
        "x": 0.1,
        "y": 0.1
       },
       "content": {
        "cell": "75b98ab9-8aa6-416f-9e87-50cd851f5dce",
        "part": "whole"
       },
       "id": "c8fa92d1-5da4-4a69-b0e0-49ed4f010b69"
      }
     }
    },
    "acdc47dc-75c0-4504-8675-5040323a2475": {
     "id": "acdc47dc-75c0-4504-8675-5040323a2475",
     "prev": "47c6394b-5be0-4d01-8f68-eed8f08c8585",
     "regions": {
      "ff4456ec-0d65-4f91-ba55-38c275779238": {
       "attrs": {
        "height": 0.8,
        "width": 0.8,
        "x": 0.1,
        "y": 0.1
       },
       "content": {
        "cell": "3e87a4c6-575a-4e96-8537-54cb1619ad50",
        "part": "whole"
       },
       "id": "ff4456ec-0d65-4f91-ba55-38c275779238"
      }
     }
    },
    "ba5ee1ee-6a2b-4585-8788-ad22eac2bcd1": {
     "id": "ba5ee1ee-6a2b-4585-8788-ad22eac2bcd1",
     "prev": "30282354-f66f-4f8c-825d-e0f4b9789f31",
     "regions": {
      "04a3dd28-27ba-45a0-8974-404cde551cdc": {
       "attrs": {
        "height": 0.8,
        "width": 0.8,
        "x": 0.1,
        "y": 0.1
       },
       "content": {
        "cell": "0b7c77f9-876c-4825-878f-fd961e047b96",
        "part": "whole"
       },
       "id": "04a3dd28-27ba-45a0-8974-404cde551cdc"
      }
     }
    },
    "becd3e99-3c80-43e4-9292-5fc163520520": {
     "id": "becd3e99-3c80-43e4-9292-5fc163520520",
     "prev": "7e6a8fac-54f2-4555-a98f-612ed56242f2",
     "regions": {
      "0c02951c-3cfb-46e7-adf6-f678d431275a": {
       "attrs": {
        "height": 0.8,
        "width": 0.8,
        "x": 0.1,
        "y": 0.1
       },
       "content": {
        "cell": "91d99b13-47d9-45c5-9443-411001cc70a9",
        "part": "whole"
       },
       "id": "0c02951c-3cfb-46e7-adf6-f678d431275a"
      }
     }
    },
    "e1b21e24-ee3b-4699-a42b-3f4d7e2a2925": {
     "id": "e1b21e24-ee3b-4699-a42b-3f4d7e2a2925",
     "prev": "8a841778-9630-4151-b534-a345f68d78eb",
     "regions": {
      "153b00f7-8ae1-46c2-b87f-7821fa829694": {
       "attrs": {
        "height": 0.8,
        "width": 0.8,
        "x": 0.1,
        "y": 0.1
       },
       "content": {
        "cell": "0a679bdc-6e0b-4903-9aa7-f92e62e950db",
        "part": "whole"
       },
       "id": "153b00f7-8ae1-46c2-b87f-7821fa829694"
      }
     }
    },
    "e3140e01-1a84-4c77-95a7-aa91d7f701e1": {
     "id": "e3140e01-1a84-4c77-95a7-aa91d7f701e1",
     "prev": "fef582f6-e9f5-468a-acf4-48df28bf3f5d",
     "regions": {
      "fa42b8fc-44fa-411b-8a5a-a59d0b5c6905": {
       "attrs": {
        "height": 0.8,
        "width": 0.8,
        "x": 0.1,
        "y": 0.1
       },
       "content": {
        "cell": "1113da28-07f6-46bb-93bf-8c74e6acbc66",
        "part": "whole"
       },
       "id": "fa42b8fc-44fa-411b-8a5a-a59d0b5c6905"
      }
     }
    },
    "e431742c-824e-46d7-8096-ba4efffb6ea4": {
     "id": "e431742c-824e-46d7-8096-ba4efffb6ea4",
     "prev": "becd3e99-3c80-43e4-9292-5fc163520520",
     "regions": {
      "6eb8c2cf-aa1c-423c-a659-e2339586f0e0": {
       "attrs": {
        "height": 0.8,
        "width": 0.8,
        "x": 0.1,
        "y": 0.1
       },
       "content": {
        "cell": "9d63965c-b783-4930-bed9-d3af5cdf5535",
        "part": "whole"
       },
       "id": "6eb8c2cf-aa1c-423c-a659-e2339586f0e0"
      }
     }
    },
    "ebc2f89d-15ea-41df-be28-151311284e7b": {
     "id": "ebc2f89d-15ea-41df-be28-151311284e7b",
     "prev": "4460e54c-8ade-4ab6-92f6-8efc8d7402a2",
     "regions": {
      "8adf0691-76e4-444b-975d-75bb715f8df9": {
       "attrs": {
        "height": 0.8,
        "width": 0.8,
        "x": 0.1,
        "y": 0.1
       },
       "content": {
        "cell": "675b2fa9-55dc-4b21-91de-2527ae95499d",
        "part": "whole"
       },
       "id": "8adf0691-76e4-444b-975d-75bb715f8df9"
      }
     }
    },
    "f072b566-e269-4674-898e-3291b35c5871": {
     "id": "f072b566-e269-4674-898e-3291b35c5871",
     "prev": "f39055a8-7116-4cef-af06-6aa00419c205",
     "regions": {
      "88f72833-e0cf-4547-b3b6-19d61fbd0a7a": {
       "attrs": {
        "height": 0.8,
        "width": 0.8,
        "x": 0.1,
        "y": 0.1
       },
       "content": {
        "cell": "867699eb-421c-455c-9940-fbd2000f3473",
        "part": "whole"
       },
       "id": "88f72833-e0cf-4547-b3b6-19d61fbd0a7a"
      }
     }
    },
    "f39055a8-7116-4cef-af06-6aa00419c205": {
     "id": "f39055a8-7116-4cef-af06-6aa00419c205",
     "prev": "83073700-5808-4cc0-880a-edd538a3d75d",
     "regions": {
      "92769584-cb51-4fe3-ba0a-f445911ee710": {
       "attrs": {
        "height": 0.8,
        "width": 0.8,
        "x": 0.1,
        "y": 0.1
       },
       "content": {
        "cell": "ff494c09-8b00-4d23-8919-6055745610a6",
        "part": "whole"
       },
       "id": "92769584-cb51-4fe3-ba0a-f445911ee710"
      }
     }
    },
    "fd231aa0-6d21-47c5-952a-13887e5501b4": {
     "id": "fd231aa0-6d21-47c5-952a-13887e5501b4",
     "prev": "8269ed40-6980-48d4-958d-b4c14c0cd9f8",
     "regions": {
      "247c5382-5472-46ec-ba13-9628460263f9": {
       "attrs": {
        "height": 0.8,
        "width": 0.8,
        "x": 0.1,
        "y": 0.1
       },
       "content": {
        "cell": "9ee4858e-be51-487a-879a-963d5f8a966a",
        "part": "whole"
       },
       "id": "247c5382-5472-46ec-ba13-9628460263f9"
      }
     }
    },
    "fe7f736a-bbd9-4c26-bce4-9f6b326ff4d4": {
     "id": "fe7f736a-bbd9-4c26-bce4-9f6b326ff4d4",
     "prev": "fd231aa0-6d21-47c5-952a-13887e5501b4",
     "regions": {
      "4a8afb3b-fc56-4266-b09e-550df2177519": {
       "attrs": {
        "height": 0.8,
        "width": 0.8,
        "x": 0.1,
        "y": 0.1
       },
       "content": {
        "cell": "9bd62e6c-63ab-48b5-8f5e-c97c03795c01",
        "part": "whole"
       },
       "id": "4a8afb3b-fc56-4266-b09e-550df2177519"
      }
     }
    },
    "fef582f6-e9f5-468a-acf4-48df28bf3f5d": {
     "id": "fef582f6-e9f5-468a-acf4-48df28bf3f5d",
     "prev": "273a9041-430b-43fd-866d-c6f8d63f3e08",
     "regions": {
      "82057656-1d40-4830-9df1-1ff9bd3c0e3c": {
       "attrs": {
        "height": 0.8,
        "width": 0.8,
        "x": 0.1,
        "y": 0.1
       },
       "content": {
        "cell": "49af673e-f31b-4d3f-8041-d5df855dd6fe",
        "part": "whole"
       },
       "id": "82057656-1d40-4830-9df1-1ff9bd3c0e3c"
      }
     }
    }
   },
   "themes": {}
  }
 },
 "nbformat": 4,
 "nbformat_minor": 1
}
